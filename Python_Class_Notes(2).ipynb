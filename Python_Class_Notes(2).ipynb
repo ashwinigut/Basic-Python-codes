{
 "cells": [
  {
   "cell_type": "markdown",
   "id": "6380db64",
   "metadata": {},
   "source": [
    "## 📍📍 Operators (27/07/2022) 📍📍"
   ]
  },
  {
   "cell_type": "markdown",
   "id": "cdbee0cb",
   "metadata": {},
   "source": [
    "1)Arithmetic operators\n",
    "2)Comparision operators\n",
    "3)Logical operators"
   ]
  },
  {
   "cell_type": "markdown",
   "id": "64bb8ffc",
   "metadata": {},
   "source": [
    "### 1) Arithmetic operators"
   ]
  },
  {
   "cell_type": "raw",
   "id": "72bdfa71",
   "metadata": {},
   "source": [
    " + = Addition\n",
    " - = Substraction\n",
    " * = Multiplication\n",
    " / = Division\n",
    " ^ = Exponentiation \n",
    " % = Modulus\n",
    " // = floor division"
   ]
  },
  {
   "cell_type": "code",
   "execution_count": 2,
   "id": "cd5d8ff7",
   "metadata": {},
   "outputs": [],
   "source": [
    "a= 15\n",
    "b=8\n",
    "c=15.5"
   ]
  },
  {
   "cell_type": "code",
   "execution_count": 3,
   "id": "4d5c5d63",
   "metadata": {},
   "outputs": [
    {
     "data": {
      "text/plain": [
       "23"
      ]
     },
     "execution_count": 3,
     "metadata": {},
     "output_type": "execute_result"
    }
   ],
   "source": [
    "a + b"
   ]
  },
  {
   "cell_type": "code",
   "execution_count": 4,
   "id": "d629fc3d",
   "metadata": {},
   "outputs": [
    {
     "data": {
      "text/plain": [
       "7"
      ]
     },
     "execution_count": 4,
     "metadata": {},
     "output_type": "execute_result"
    }
   ],
   "source": [
    "a - b"
   ]
  },
  {
   "cell_type": "code",
   "execution_count": 5,
   "id": "fd980703",
   "metadata": {},
   "outputs": [
    {
     "data": {
      "text/plain": [
       "120"
      ]
     },
     "execution_count": 5,
     "metadata": {},
     "output_type": "execute_result"
    }
   ],
   "source": [
    "a * b"
   ]
  },
  {
   "cell_type": "code",
   "execution_count": 6,
   "id": "19e49ee8",
   "metadata": {},
   "outputs": [
    {
     "data": {
      "text/plain": [
       "1.875"
      ]
     },
     "execution_count": 6,
     "metadata": {},
     "output_type": "execute_result"
    }
   ],
   "source": [
    "a / b"
   ]
  },
  {
   "cell_type": "code",
   "execution_count": 7,
   "id": "258ba36e",
   "metadata": {},
   "outputs": [
    {
     "data": {
      "text/plain": [
       "7"
      ]
     },
     "execution_count": 7,
     "metadata": {},
     "output_type": "execute_result"
    }
   ],
   "source": [
    "a^b"
   ]
  },
  {
   "cell_type": "code",
   "execution_count": 8,
   "id": "b6037386",
   "metadata": {},
   "outputs": [
    {
     "data": {
      "text/plain": [
       "1"
      ]
     },
     "execution_count": 8,
     "metadata": {},
     "output_type": "execute_result"
    }
   ],
   "source": [
    "a//b"
   ]
  },
  {
   "cell_type": "markdown",
   "id": "0538b25e",
   "metadata": {},
   "source": [
    "### 2) Comparision operators"
   ]
  },
  {
   "cell_type": "raw",
   "id": "b1577836",
   "metadata": {},
   "source": [
    "== = equal\n",
    "!= = not equal\n",
    "> = greater than\n",
    "< = less than\n",
    ">= = greater than or equal to\n",
    "<= = less than or equal to "
   ]
  },
  {
   "cell_type": "code",
   "execution_count": 9,
   "id": "b0c4f4a8",
   "metadata": {},
   "outputs": [
    {
     "data": {
      "text/plain": [
       "False"
      ]
     },
     "execution_count": 9,
     "metadata": {},
     "output_type": "execute_result"
    }
   ],
   "source": [
    "a == b"
   ]
  },
  {
   "cell_type": "code",
   "execution_count": 10,
   "id": "e5d2be8e",
   "metadata": {},
   "outputs": [
    {
     "data": {
      "text/plain": [
       "True"
      ]
     },
     "execution_count": 10,
     "metadata": {},
     "output_type": "execute_result"
    }
   ],
   "source": [
    "a!= b"
   ]
  },
  {
   "cell_type": "code",
   "execution_count": 11,
   "id": "9b082cdd",
   "metadata": {},
   "outputs": [
    {
     "data": {
      "text/plain": [
       "True"
      ]
     },
     "execution_count": 11,
     "metadata": {},
     "output_type": "execute_result"
    }
   ],
   "source": [
    "a > b"
   ]
  },
  {
   "cell_type": "code",
   "execution_count": 12,
   "id": "52c629af",
   "metadata": {},
   "outputs": [
    {
     "data": {
      "text/plain": [
       "False"
      ]
     },
     "execution_count": 12,
     "metadata": {},
     "output_type": "execute_result"
    }
   ],
   "source": [
    "a< b"
   ]
  },
  {
   "cell_type": "code",
   "execution_count": 13,
   "id": "577161cc",
   "metadata": {},
   "outputs": [
    {
     "data": {
      "text/plain": [
       "True"
      ]
     },
     "execution_count": 13,
     "metadata": {},
     "output_type": "execute_result"
    }
   ],
   "source": [
    "a >= b"
   ]
  },
  {
   "cell_type": "code",
   "execution_count": 14,
   "id": "6134f6de",
   "metadata": {},
   "outputs": [
    {
     "data": {
      "text/plain": [
       "False"
      ]
     },
     "execution_count": 14,
     "metadata": {},
     "output_type": "execute_result"
    }
   ],
   "source": [
    "a <= b"
   ]
  },
  {
   "cell_type": "markdown",
   "id": "8c3181e2",
   "metadata": {},
   "source": [
    "### 3) Logical operators"
   ]
  },
  {
   "cell_type": "markdown",
   "id": "bac11c57",
   "metadata": {},
   "source": [
    "and = return true if both statements are true\n",
    "or  = returns true if one of the statements is true\n",
    "not = reverse the result, returns false if the result is true"
   ]
  },
  {
   "cell_type": "code",
   "execution_count": 15,
   "id": "4cc11243",
   "metadata": {},
   "outputs": [
    {
     "data": {
      "text/plain": [
       "True"
      ]
     },
     "execution_count": 15,
     "metadata": {},
     "output_type": "execute_result"
    }
   ],
   "source": [
    "(1 == 1) and ( 2 == 2) # comparision"
   ]
  },
  {
   "cell_type": "code",
   "execution_count": 16,
   "id": "d93a7811",
   "metadata": {},
   "outputs": [
    {
     "data": {
      "text/plain": [
       "True"
      ]
     },
     "execution_count": 16,
     "metadata": {},
     "output_type": "execute_result"
    }
   ],
   "source": [
    "(1 == 1) or ( 2 == 2) "
   ]
  },
  {
   "cell_type": "code",
   "execution_count": 17,
   "id": "835537f0",
   "metadata": {},
   "outputs": [
    {
     "data": {
      "text/plain": [
       "False"
      ]
     },
     "execution_count": 17,
     "metadata": {},
     "output_type": "execute_result"
    }
   ],
   "source": [
    "not (1 == 1) and ( 2 == 2) "
   ]
  },
  {
   "cell_type": "markdown",
   "id": "bb958bb6",
   "metadata": {},
   "source": [
    "###  📍Conditional statement 📍"
   ]
  },
  {
   "cell_type": "code",
   "execution_count": 18,
   "id": "4f97d725",
   "metadata": {},
   "outputs": [
    {
     "name": "stdout",
     "output_type": "stream",
     "text": [
      "a is smaller than b\n"
     ]
    }
   ],
   "source": [
    "# single conditional\n",
    "a = 15\n",
    "b = 30\n",
    "\n",
    "if (a > b):\n",
    "    print(\"a is greater than b\")\n",
    "else :\n",
    "    print(\"a is smaller than b\")"
   ]
  },
  {
   "cell_type": "code",
   "execution_count": 19,
   "id": "dabd4165",
   "metadata": {},
   "outputs": [
    {
     "name": "stdout",
     "output_type": "stream",
     "text": [
      "both numbers are greater than 5\n"
     ]
    }
   ],
   "source": [
    "# nultiple conditional\n",
    "a = 10\n",
    "b = 20\n",
    "\n",
    "if ((a > 5) and (b > 5)):\n",
    "    print(\"both numbers are greater than 5\")\n",
    "elif ((a > 20) and (b > 20)):\n",
    "    print(\"both numbers are greater than 20\")\n",
    "else :\n",
    "    print(\"condition are not satisfied\")"
   ]
  },
  {
   "cell_type": "code",
   "execution_count": 20,
   "id": "a8fff5f8",
   "metadata": {},
   "outputs": [
    {
     "name": "stdout",
     "output_type": "stream",
     "text": [
      "given condition is true\n"
     ]
    }
   ],
   "source": [
    "# if statement\n",
    "x = 5\n",
    "if (x == 5):\n",
    "    print(\"given condition is true\")"
   ]
  },
  {
   "cell_type": "code",
   "execution_count": 21,
   "id": "b05f5a76",
   "metadata": {},
   "outputs": [],
   "source": [
    "if (x == 2):\n",
    "    print(\"given condition id true\")\n",
    "## it did not give any output because we assign x=5"
   ]
  },
  {
   "cell_type": "markdown",
   "id": "a8a532e4",
   "metadata": {},
   "source": [
    "##### Q1) Take an input fron user in variable  x and print \"Even\" if the number is divisible by 2. otherwise print odd."
   ]
  },
  {
   "cell_type": "code",
   "execution_count": 22,
   "id": "6f0b16da",
   "metadata": {},
   "outputs": [
    {
     "name": "stdout",
     "output_type": "stream",
     "text": [
      " Enter the number :67\n",
      "Number is Odd\n"
     ]
    }
   ],
   "source": [
    "# take input from user by using input function\n",
    "x = input(\" Enter the number :\")\n",
    "\n",
    "# convert string into integer \n",
    "d = int(x)\n",
    "# condition to check no. is divisible by 2 or not\n",
    "if (d%2 ==0):   \n",
    "    print(\"Number is Even\")\n",
    "else :\n",
    "    print(\"Number is Odd\")"
   ]
  },
  {
   "cell_type": "markdown",
   "id": "85f3d301",
   "metadata": {},
   "source": [
    "##### Q2) Take input from user in variable y and print \"grade A\" if y is greater than 90, \"grade B\" if y is greater than 60 but less than or equal to 90 and \"Grade F\" otherwise."
   ]
  },
  {
   "cell_type": "code",
   "execution_count": 25,
   "id": "c54484b4",
   "metadata": {},
   "outputs": [
    {
     "name": "stdout",
     "output_type": "stream",
     "text": [
      "Enter marks :91\n",
      "grade A\n"
     ]
    }
   ],
   "source": [
    "y = input(\"Enter marks :\")\n",
    "m = int(y)\n",
    "if (m > 90):\n",
    "    print(\"grade A\")\n",
    "elif (m > 60):\n",
    "    print(\"grade B\")\n",
    "else :\n",
    "    print(\"grade F\")"
   ]
  },
  {
   "cell_type": "markdown",
   "id": "cc6c3dec",
   "metadata": {},
   "source": [
    "## 📍 Looping Constructs  30/07/2022 📍"
   ]
  },
  {
   "cell_type": "markdown",
   "id": "0e9573ea",
   "metadata": {},
   "source": [
    " * We use for loop when we want to run a block of code certain number of times."
   ]
  },
  {
   "cell_type": "markdown",
   "id": "b4db2624",
   "metadata": {},
   "source": [
    "* When we pass only one argument (considerd as END_POINT)in the range function. The loop starts with 0 and runs till END_POINT  - 1"
   ]
  },
  {
   "cell_type": "code",
   "execution_count": 26,
   "id": "6ce20b8f",
   "metadata": {},
   "outputs": [
    {
     "name": "stdout",
     "output_type": "stream",
     "text": [
      "1\n",
      "2\n",
      "3\n",
      "4\n"
     ]
    }
   ],
   "source": [
    "# for number in range (4):\n",
    "for number in range(1,5):\n",
    "    print(number)"
   ]
  },
  {
   "cell_type": "markdown",
   "id": "7aae16f0",
   "metadata": {},
   "source": [
    "* When we pass two arguments (first one considerd as START_POINT and second one as END_POINT). The loop start with START_POINT and ends with END_POINT -1"
   ]
  },
  {
   "cell_type": "code",
   "execution_count": 27,
   "id": "6baa1b78",
   "metadata": {},
   "outputs": [
    {
     "name": "stdout",
     "output_type": "stream",
     "text": [
      "0\n",
      "1\n",
      "2\n",
      "3\n"
     ]
    },
    {
     "data": {
      "text/plain": [
       "4"
      ]
     },
     "execution_count": 27,
     "metadata": {},
     "output_type": "execute_result"
    }
   ],
   "source": [
    "for i in range(4):\n",
    "    print(i)\n",
    "number\n",
    "## it print 4 because in above cell number value is 4"
   ]
  },
  {
   "cell_type": "code",
   "execution_count": 28,
   "id": "fb5bc8f2",
   "metadata": {},
   "outputs": [
    {
     "name": "stdout",
     "output_type": "stream",
     "text": [
      "1     3     5     7     9     "
     ]
    }
   ],
   "source": [
    "for number in range(1,10,2):\n",
    "    print(number, end='     ')"
   ]
  },
  {
   "cell_type": "code",
   "execution_count": 29,
   "id": "8ca6e514",
   "metadata": {},
   "outputs": [
    {
     "name": "stdout",
     "output_type": "stream",
     "text": [
      "2  4  6  8  10  "
     ]
    }
   ],
   "source": [
    "for number in range(2,11,2):\n",
    "    print(number,end='  ')"
   ]
  },
  {
   "cell_type": "code",
   "execution_count": 30,
   "id": "89be4c54",
   "metadata": {},
   "outputs": [
    {
     "name": "stdout",
     "output_type": "stream",
     "text": [
      "C\n",
      "o\n",
      "u\n",
      "n\n",
      "t\n",
      "r\n",
      "y\n",
      "_\n",
      "I\n",
      "n\n",
      "d\n",
      "i\n",
      "a\n"
     ]
    }
   ],
   "source": [
    "# string data type  \n",
    "name = \"Country_India\"\n",
    "for char in name:   \n",
    "    print(char)\n",
    "    "
   ]
  },
  {
   "cell_type": "code",
   "execution_count": 31,
   "id": "18ef6f0d",
   "metadata": {},
   "outputs": [
    {
     "name": "stdout",
     "output_type": "stream",
     "text": [
      "C\n",
      "u\n",
      "t\n",
      "y\n",
      "I\n",
      "d\n",
      "a\n"
     ]
    }
   ],
   "source": [
    "# if we want any alternative alphabet\n",
    "for char in name[::2]:\n",
    "    print(char)\n",
    "## answer in differnce of two"
   ]
  },
  {
   "cell_type": "code",
   "execution_count": 32,
   "id": "38cf1ea8",
   "metadata": {},
   "outputs": [
    {
     "name": "stdout",
     "output_type": "stream",
     "text": [
      "o\n",
      "u\n"
     ]
    }
   ],
   "source": [
    "# if we mention start point and end point\n",
    "for i in name[1:3:1]:\n",
    "    print(i)\n",
    "# start from position 1 \n",
    "# end at position 0 \n",
    "# with difference 1"
   ]
  },
  {
   "cell_type": "code",
   "execution_count": 33,
   "id": "bdf74125",
   "metadata": {},
   "outputs": [
    {
     "name": "stdout",
     "output_type": "stream",
     "text": [
      "C\n",
      "o\n",
      "u\n",
      "n\n",
      "t\n",
      "r\n",
      "y\n",
      " \n",
      "I\n",
      "n\n",
      "d\n",
      "i\n",
      "a\n"
     ]
    }
   ],
   "source": [
    "for char in \"Country India\":   \n",
    "    print(char)\n",
    "## space considered in char "
   ]
  },
  {
   "cell_type": "markdown",
   "id": "37f283d1",
   "metadata": {},
   "source": [
    "## Nested for loops"
   ]
  },
  {
   "cell_type": "markdown",
   "id": "888aff06",
   "metadata": {},
   "source": [
    "* a nested is a loop within a loop\n",
    "* For each steop in the outer loop, the inner loop executes completely "
   ]
  },
  {
   "cell_type": "code",
   "execution_count": 34,
   "id": "86975c74",
   "metadata": {},
   "outputs": [
    {
     "name": "stdout",
     "output_type": "stream",
     "text": [
      "1 A\n",
      "1 B\n",
      "1 C\n",
      "2 A\n",
      "2 B\n",
      "2 C\n",
      "3 A\n",
      "3 B\n",
      "3 C\n",
      "4 A\n",
      "4 B\n",
      "4 C\n"
     ]
    }
   ],
   "source": [
    "# define the range of outer loop\n",
    "for outer_loop in range(1,5):\n",
    "    # define inner loop\n",
    "    for inner_loop in \"ABC\":\n",
    "        print(outer_loop,inner_loop)"
   ]
  },
  {
   "cell_type": "markdown",
   "id": "e6e6f75d",
   "metadata": {},
   "source": [
    "## * While Loop"
   ]
  },
  {
   "cell_type": "markdown",
   "id": "dd0d0376",
   "metadata": {},
   "source": [
    "* Anther way to execute a block of code over and again is whike statement.\n",
    "* The code in a while clause will be executed as long as the statement condition is true."
   ]
  },
  {
   "cell_type": "markdown",
   "id": "d12aa369",
   "metadata": {},
   "source": [
    "#### In given example we have initiated the variable number =0 and we will increment its value in each iteration. The loop will only continue to run only if the value is less than 9."
   ]
  },
  {
   "cell_type": "code",
   "execution_count": 35,
   "id": "74c67173",
   "metadata": {},
   "outputs": [
    {
     "name": "stdout",
     "output_type": "stream",
     "text": [
      "0\n",
      "1\n",
      "2\n",
      "3\n",
      "4\n",
      "5\n",
      "6\n",
      "7\n",
      "8\n"
     ]
    }
   ],
   "source": [
    "num = 0\n",
    "while (num < 9):\n",
    "    print(num)\n",
    "    num = num + 1"
   ]
  },
  {
   "cell_type": "code",
   "execution_count": 36,
   "id": "8e77e10b",
   "metadata": {},
   "outputs": [
    {
     "name": "stdout",
     "output_type": "stream",
     "text": [
      "0\n",
      "2\n",
      "4\n"
     ]
    }
   ],
   "source": [
    "n = 0\n",
    "while (n < 5):\n",
    "    print(n)\n",
    "    n = n + 2"
   ]
  },
  {
   "cell_type": "markdown",
   "id": "b53cacc0",
   "metadata": {},
   "source": [
    "## 📍Jump Statements in python  (Break, continue and pass)📍"
   ]
  },
  {
   "cell_type": "markdown",
   "id": "8294a897",
   "metadata": {},
   "source": [
    " * Using for loops and while loops in python allow you to automate and repeat tasks in efficient manner.\n",
    " * But sometimes, an external factor may influence the way your program runs. When this occurs, you want your program to exit a loop completely, skip part of a loop before continuing or ignore that external factor.\n"
   ]
  },
  {
   "cell_type": "markdown",
   "id": "b296e5ab",
   "metadata": {},
   "source": [
    "### 1.Break Statement\n",
    "* The Break statement provides you with the opportunity to exit of a loop when an external condition is triggerd.\n",
    "* You will put the break statement within the block of code under your loop statement, usually after a condition if statement.\n",
    "* The break statement causes a program to break out a loop."
   ]
  },
  {
   "cell_type": "code",
   "execution_count": 37,
   "id": "3cb3a900",
   "metadata": {},
   "outputs": [
    {
     "name": "stdout",
     "output_type": "stream",
     "text": [
      "Number is 0\n",
      "Number is 1\n",
      "Number is 2\n",
      "Number is 3\n",
      "Number is 4\n",
      "Number is 5\n",
      "Number is 6\n",
      "Number is 7\n",
      "Number is 8\n",
      "Number is 9\n",
      "Number is 10\n",
      "Number is 11\n",
      "Number is 12\n",
      "Number is 13\n",
      "Number is 14\n",
      "Out of loop\n"
     ]
    }
   ],
   "source": [
    "N = 0 \n",
    "for N in range(20):\n",
    "    if N == 15:\n",
    "        break\n",
    "    print('Number is ' + str(N))\n",
    "        \n",
    "print('Out of loop')"
   ]
  },
  {
   "cell_type": "markdown",
   "id": "72285589",
   "metadata": {},
   "source": [
    "### Que.  \n",
    "* In the following example, user will enter the password which is set to be data.\n",
    "* if the password matches, it will print Welcome to the Pyhton chorse else print Wrong password!! and user will re enter the password.\n",
    "* IN the fourth trial, it will print One trial left!!!."
   ]
  },
  {
   "cell_type": "code",
   "execution_count": 38,
   "id": "6e77dba9",
   "metadata": {},
   "outputs": [
    {
     "name": "stdout",
     "output_type": "stream",
     "text": [
      "Enter Password :yt\n",
      "Wrong password!!\n",
      "Enter Password :90\n",
      "Wrong password!!\n",
      "Enter Password :ij\n",
      "Wrong password!!\n",
      "Enter Password :ko\n",
      "Wrong password!!\n",
      "One trial left!!!\n",
      "Enter Password :data\n",
      "Welcome to python course\n"
     ]
    }
   ],
   "source": [
    "password = \"data\"\n",
    "\n",
    "for trial in range(1,6):\n",
    "    \n",
    "    if trial == 5:\n",
    "        print('One trial left!!!')\n",
    "        \n",
    "    enter_password = input(\"Enter Password :\")\n",
    "        \n",
    "    if enter_password == password:\n",
    "        print(\"Welcome to python course\")\n",
    "        break\n",
    "        \n",
    "    else:\n",
    "     print(\"Wrong password!!\")"
   ]
  },
  {
   "cell_type": "code",
   "execution_count": 39,
   "id": "86a69ac9",
   "metadata": {},
   "outputs": [
    {
     "name": "stdout",
     "output_type": "stream",
     "text": [
      "Enter the password :83\n",
      "Wrong Password!!\n",
      "Enter the password :gh\n",
      "Wrong Password!!\n",
      "Enter the password :yi\n",
      "Wrong Password!!\n",
      "Enter the password :9o\n",
      "One trial left!!!\n",
      "Enter the password :fstd\n",
      "number of trials done\n"
     ]
    }
   ],
   "source": [
    "password = 'abc'\n",
    "for trial in range(1,6):\n",
    "    pass_word = input(\"Enter the password :\")\n",
    "    if pass_word == password:\n",
    "        print(\"Welcome to python course\")\n",
    "        break\n",
    "    elif trial == 4:\n",
    "        print('One trial left!!!')\n",
    "    elif trial == 5:\n",
    "        print(\"number of trials done\")\n",
    "    else:\n",
    "        print(\"Wrong Password!!\")\n",
    "    trial = trial + 1 "
   ]
  },
  {
   "cell_type": "markdown",
   "id": "ed34d7fd",
   "metadata": {},
   "source": [
    "###  2.Continue statement "
   ]
  },
  {
   "cell_type": "markdown",
   "id": "0dc502b8",
   "metadata": {},
   "source": [
    "* The continue statement gives you the option to skip over the part of a loop where an external condition us triggerd. but to go on to complete the rest of the loop.\n",
    "* that is the current iteration of the loop eill be disrupted, but the program will return to the top of the loop.\n",
    "* The continue statement will be within the block of code under the loop statement , usually after a conditinal if statement.\n",
    "* The continue statement causes a program to skip certain factors that come up within a loop, but then continue through the rest of the loop.\n",
    "\n",
    "Using the same for loop program as in the break statement section above, we will use a continue statement rather than a break statement."
   ]
  },
  {
   "cell_type": "code",
   "execution_count": 40,
   "id": "17d21c86",
   "metadata": {},
   "outputs": [
    {
     "name": "stdout",
     "output_type": "stream",
     "text": [
      "Number is 0\n",
      "Number is 1\n",
      "Number is 2\n",
      "Number is 3\n",
      "Number is 4\n",
      "Number is 6\n",
      "Number is 7\n",
      "Number is 8\n",
      "Number is 9\n",
      "Out of loop\n"
     ]
    }
   ],
   "source": [
    "num = 0\n",
    "for num in range(10):\n",
    "    if num == 5:\n",
    "        continue\n",
    "    print('Number is '+ str(num))\n",
    "print('Out of loop')"
   ]
  },
  {
   "cell_type": "markdown",
   "id": "203a4c1d",
   "metadata": {},
   "source": [
    "### Problem statement :"
   ]
  },
  {
   "cell_type": "markdown",
   "id": "ec10793d",
   "metadata": {},
   "source": [
    "* In the following example user will enter the password which is OTP which is set to be 1011.\n",
    "* if the OTP matches, it will ask user to provide details like Enter YOUR Name: and Enter Your City: and user eill re-enter the OTP.\n",
    "* in the fourth trial, it will print One tril left!!!"
   ]
  },
  {
   "cell_type": "code",
   "execution_count": 41,
   "id": "b55ea419",
   "metadata": {},
   "outputs": [
    {
     "name": "stdout",
     "output_type": "stream",
     "text": [
      "Enter OTP : 6783\n",
      "Try again!: \n",
      "Enter OTP : 1234\n",
      "Try again!: \n",
      "Enter OTP : 2312\n",
      "Try again!: \n",
      "One trial left!!!\n",
      "Enter OTP : 1011\n",
      "Enter your name :Ashu\n",
      "Enter city name :Pune\n"
     ]
    }
   ],
   "source": [
    "OTP = '1011'\n",
    "for trial in range(1,6):\n",
    "    if trial == 4:\n",
    "        print('One trial left!!!')\n",
    "    enter_otp = input(\"Enter OTP : \")\n",
    "    \n",
    "    if enter_otp != OTP:\n",
    "        print(\"Try again!: \")\n",
    "        continue\n",
    "    else :\n",
    "        name = input(\"Enter your name :\")\n",
    "        city_name = input(\"Enter city name :\")\n",
    "        break\n",
    "    "
   ]
  },
  {
   "cell_type": "markdown",
   "id": "6fd98bfd",
   "metadata": {},
   "source": [
    "# Data Structure (List) "
   ]
  },
  {
   "cell_type": "markdown",
   "id": "9c6e89cf",
   "metadata": {},
   "source": [
    "* Creating a list"
   ]
  },
  {
   "cell_type": "code",
   "execution_count": 42,
   "id": "d15b8bdd",
   "metadata": {},
   "outputs": [
    {
     "data": {
      "text/plain": [
       "[1, 2, 3, 4, 5, 6, 7, 8, 9, 10]"
      ]
     },
     "execution_count": 42,
     "metadata": {},
     "output_type": "execute_result"
    }
   ],
   "source": [
    "my_list = [1,2,3,4,5,6,7,8,9,10]\n",
    "my_list"
   ]
  },
  {
   "cell_type": "markdown",
   "id": "de24a596",
   "metadata": {},
   "source": [
    "* Access elements with index"
   ]
  },
  {
   "cell_type": "code",
   "execution_count": 43,
   "id": "d6d46254",
   "metadata": {},
   "outputs": [
    {
     "data": {
      "text/plain": [
       "2"
      ]
     },
     "execution_count": 43,
     "metadata": {},
     "output_type": "execute_result"
    }
   ],
   "source": [
    "# positive index -second element from the left\n",
    "my_list[1]"
   ]
  },
  {
   "cell_type": "code",
   "execution_count": 44,
   "id": "bbd289ba",
   "metadata": {},
   "outputs": [
    {
     "data": {
      "text/plain": [
       "9"
      ]
     },
     "execution_count": 44,
     "metadata": {},
     "output_type": "execute_result"
    }
   ],
   "source": [
    "# negative index - second last element in the list\n",
    "my_list[-2]"
   ]
  },
  {
   "cell_type": "markdown",
   "id": "ba0ad820",
   "metadata": {},
   "source": [
    "* List slicing"
   ]
  },
  {
   "cell_type": "code",
   "execution_count": 45,
   "id": "102afde0",
   "metadata": {},
   "outputs": [
    {
     "data": {
      "text/plain": [
       "[1, 2, 3, 4, 5, 6, 7, 8, 9, 10]"
      ]
     },
     "execution_count": 45,
     "metadata": {},
     "output_type": "execute_result"
    }
   ],
   "source": [
    "# get all the elements in the list using colon only\n",
    "my_list[:]"
   ]
  },
  {
   "cell_type": "code",
   "execution_count": 46,
   "id": "ff8a152e",
   "metadata": {},
   "outputs": [
    {
     "data": {
      "text/plain": [
       "[1, 2, 3, 4, 5, 6, 7, 8, 9, 10]"
      ]
     },
     "execution_count": 46,
     "metadata": {},
     "output_type": "execute_result"
    }
   ],
   "source": [
    "# some result using the double colon also\n",
    "my_list[::]"
   ]
  },
  {
   "cell_type": "code",
   "execution_count": 47,
   "id": "611b0166",
   "metadata": {},
   "outputs": [
    {
     "data": {
      "text/plain": [
       "[1, 2, 3, 4, 5, 6, 7, 8, 9, 10]"
      ]
     },
     "execution_count": 47,
     "metadata": {},
     "output_type": "execute_result"
    }
   ],
   "source": [
    "# after the second colon we define the step\n",
    "my_list[::1]"
   ]
  },
  {
   "cell_type": "code",
   "execution_count": 48,
   "id": "bf73245e",
   "metadata": {},
   "outputs": [
    {
     "data": {
      "text/plain": [
       "[1, 3, 5, 7, 9]"
      ]
     },
     "execution_count": 48,
     "metadata": {},
     "output_type": "execute_result"
    }
   ],
   "source": [
    "# slice list with step 2\n",
    "my_list[::2]"
   ]
  },
  {
   "cell_type": "code",
   "execution_count": 49,
   "id": "26734aea",
   "metadata": {},
   "outputs": [
    {
     "data": {
      "text/plain": [
       "[3, 4, 5]"
      ]
     },
     "execution_count": 49,
     "metadata": {},
     "output_type": "execute_result"
    }
   ],
   "source": [
    "# list from index 2 upto 5 with step 1\n",
    "my_list[2:5:1]"
   ]
  },
  {
   "cell_type": "code",
   "execution_count": 50,
   "id": "c2bef631",
   "metadata": {},
   "outputs": [
    {
     "data": {
      "text/plain": [
       "[3, 5]"
      ]
     },
     "execution_count": 50,
     "metadata": {},
     "output_type": "execute_result"
    }
   ],
   "source": [
    "# list from index 2 upto step 2\n",
    "my_list[2:5:2]"
   ]
  },
  {
   "cell_type": "code",
   "execution_count": 51,
   "id": "68d4c879",
   "metadata": {},
   "outputs": [
    {
     "data": {
      "text/plain": [
       "[3, 4, 5, 6, 7, 8]"
      ]
     },
     "execution_count": 51,
     "metadata": {},
     "output_type": "execute_result"
    }
   ],
   "source": [
    "# list from index 3 to 2nd last index\n",
    "my_list[2:-2]"
   ]
  },
  {
   "cell_type": "code",
   "execution_count": 52,
   "id": "c66fd075",
   "metadata": {},
   "outputs": [
    {
     "data": {
      "text/plain": [
       "[10, 9, 8, 7, 6, 5, 4, 3, 2, 1]"
      ]
     },
     "execution_count": 52,
     "metadata": {},
     "output_type": "execute_result"
    }
   ],
   "source": [
    "# reverse the list using step value as -1\n",
    "my_list[::-1]"
   ]
  },
  {
   "cell_type": "markdown",
   "id": "32f17feb",
   "metadata": {},
   "source": [
    "* Append an element to the list"
   ]
  },
  {
   "cell_type": "code",
   "execution_count": 53,
   "id": "18f4010f",
   "metadata": {},
   "outputs": [
    {
     "data": {
      "text/plain": [
       "[1, 2, 3, 4, 5, 6, 7, 8, 9, 10]"
      ]
     },
     "execution_count": 53,
     "metadata": {},
     "output_type": "execute_result"
    }
   ],
   "source": [
    "my_list"
   ]
  },
  {
   "cell_type": "code",
   "execution_count": 54,
   "id": "c46a8a58",
   "metadata": {},
   "outputs": [],
   "source": [
    "my_list.append(5)"
   ]
  },
  {
   "cell_type": "code",
   "execution_count": 55,
   "id": "125155ff",
   "metadata": {},
   "outputs": [
    {
     "data": {
      "text/plain": [
       "[1, 2, 3, 4, 5, 6, 7, 8, 9, 10, 5]"
      ]
     },
     "execution_count": 55,
     "metadata": {},
     "output_type": "execute_result"
    }
   ],
   "source": [
    "my_list"
   ]
  },
  {
   "cell_type": "code",
   "execution_count": 56,
   "id": "014e2ab6",
   "metadata": {},
   "outputs": [
    {
     "data": {
      "text/plain": [
       "[1, 2, 3, 4, 5, 6, 7, 8, 9, 10, 5, [1, 2]]"
      ]
     },
     "execution_count": 56,
     "metadata": {},
     "output_type": "execute_result"
    }
   ],
   "source": [
    "# let's try to appeng multiple elements in the list\n",
    "my_list.append([1,2])\n",
    "my_list"
   ]
  },
  {
   "cell_type": "code",
   "execution_count": 57,
   "id": "9780ee0b",
   "metadata": {},
   "outputs": [
    {
     "data": {
      "text/plain": [
       "[1, 2, 3, 4, 6, 7, 8, 9, 10, 5, [1, 2]]"
      ]
     },
     "execution_count": 57,
     "metadata": {},
     "output_type": "execute_result"
    }
   ],
   "source": [
    "my_list.remove(5)\n",
    "my_list"
   ]
  },
  {
   "cell_type": "code",
   "execution_count": 58,
   "id": "6182fc88",
   "metadata": {},
   "outputs": [
    {
     "data": {
      "text/plain": [
       "[1, 2, 3, 6, 7, 8, 9, 10, 5, [1, 2]]"
      ]
     },
     "execution_count": 58,
     "metadata": {},
     "output_type": "execute_result"
    }
   ],
   "source": [
    "del my_list[3]\n",
    "my_list\n"
   ]
  },
  {
   "cell_type": "code",
   "execution_count": 59,
   "id": "d206ca93",
   "metadata": {},
   "outputs": [
    {
     "data": {
      "text/plain": [
       "[1, 2, 3, 6, 7, 8, 9, 10, 5, [1, 2], 61, 12, 3, 5]"
      ]
     },
     "execution_count": 59,
     "metadata": {},
     "output_type": "execute_result"
    }
   ],
   "source": [
    "my_list.extend([61,12,3,5])\n",
    "my_list"
   ]
  },
  {
   "cell_type": "markdown",
   "id": "dab9690e",
   "metadata": {},
   "source": [
    "* Search for an element in the list"
   ]
  },
  {
   "cell_type": "code",
   "execution_count": 60,
   "id": "5e6525e4",
   "metadata": {},
   "outputs": [
    {
     "data": {
      "text/plain": [
       "[1, 2, 3, 6, 7, 8, 9, 10, 5, [1, 2], 61, 12, 3, 5]"
      ]
     },
     "execution_count": 60,
     "metadata": {},
     "output_type": "execute_result"
    }
   ],
   "source": [
    "my_list"
   ]
  },
  {
   "cell_type": "code",
   "execution_count": 61,
   "id": "d7e85e20",
   "metadata": {},
   "outputs": [
    {
     "data": {
      "text/plain": [
       "2"
      ]
     },
     "execution_count": 61,
     "metadata": {},
     "output_type": "execute_result"
    }
   ],
   "source": [
    "# fing out the indes of an element in the list if present\n",
    "my_list.index(3)"
   ]
  },
  {
   "cell_type": "code",
   "execution_count": 62,
   "id": "19c3db47",
   "metadata": {},
   "outputs": [
    {
     "data": {
      "text/plain": [
       "9"
      ]
     },
     "execution_count": 62,
     "metadata": {},
     "output_type": "execute_result"
    }
   ],
   "source": [
    "# index can also search nested objects\n",
    "my_list.index([1,2])"
   ]
  },
  {
   "cell_type": "code",
   "execution_count": 63,
   "id": "bea68dfb",
   "metadata": {},
   "outputs": [
    {
     "data": {
      "text/plain": [
       "8"
      ]
     },
     "execution_count": 63,
     "metadata": {},
     "output_type": "execute_result"
    }
   ],
   "source": [
    "my_list.index(5)"
   ]
  },
  {
   "cell_type": "markdown",
   "id": "4ece66fb",
   "metadata": {},
   "source": [
    "* Insert an element in the list"
   ]
  },
  {
   "cell_type": "code",
   "execution_count": 64,
   "id": "29f43594",
   "metadata": {},
   "outputs": [
    {
     "data": {
      "text/plain": [
       "[1, 2, 3, 6, 7, 8, 9, 10, 5, [1, 2], 61, 12, 3, 5]"
      ]
     },
     "execution_count": 64,
     "metadata": {},
     "output_type": "execute_result"
    }
   ],
   "source": [
    "my_list"
   ]
  },
  {
   "cell_type": "code",
   "execution_count": 65,
   "id": "5668493d",
   "metadata": {},
   "outputs": [],
   "source": [
    "my_list.insert(1,'H')"
   ]
  },
  {
   "cell_type": "code",
   "execution_count": 66,
   "id": "9cbef112",
   "metadata": {},
   "outputs": [
    {
     "data": {
      "text/plain": [
       "[1, 'H', 2, 3, 6, 7, 8, 9, 10, 5, [1, 2], 61, 12, 3, 5]"
      ]
     },
     "execution_count": 66,
     "metadata": {},
     "output_type": "execute_result"
    }
   ],
   "source": [
    "my_list"
   ]
  },
  {
   "cell_type": "code",
   "execution_count": 67,
   "id": "1e62c588",
   "metadata": {},
   "outputs": [],
   "source": [
    "my_list.insert(4,'python')"
   ]
  },
  {
   "cell_type": "code",
   "execution_count": 68,
   "id": "181e44ed",
   "metadata": {},
   "outputs": [
    {
     "data": {
      "text/plain": [
       "[1, 'H', 2, 3, 'python', 6, 7, 8, 9, 10, 5, [1, 2], 61, 12, 3, 5]"
      ]
     },
     "execution_count": 68,
     "metadata": {},
     "output_type": "execute_result"
    }
   ],
   "source": [
    "my_list"
   ]
  },
  {
   "cell_type": "markdown",
   "id": "f3526960",
   "metadata": {},
   "source": [
    "* Check if the particuler element is preset in the list or not\n"
   ]
  },
  {
   "cell_type": "markdown",
   "id": "d08c8c4f",
   "metadata": {},
   "source": [
    "we will use in or not in to get the answers of these type of quries. These in and not in are also called as membership operators."
   ]
  },
  {
   "cell_type": "code",
   "execution_count": 69,
   "id": "c5f0b637",
   "metadata": {},
   "outputs": [
    {
     "data": {
      "text/plain": [
       "False"
      ]
     },
     "execution_count": 69,
     "metadata": {},
     "output_type": "execute_result"
    }
   ],
   "source": [
    "90 in my_list"
   ]
  },
  {
   "cell_type": "code",
   "execution_count": 70,
   "id": "28c0d98b",
   "metadata": {},
   "outputs": [
    {
     "data": {
      "text/plain": [
       "True"
      ]
     },
     "execution_count": 70,
     "metadata": {},
     "output_type": "execute_result"
    }
   ],
   "source": [
    "[1,2] in my_list"
   ]
  },
  {
   "cell_type": "code",
   "execution_count": 71,
   "id": "46c60208",
   "metadata": {},
   "outputs": [
    {
     "data": {
      "text/plain": [
       "True"
      ]
     },
     "execution_count": 71,
     "metadata": {},
     "output_type": "execute_result"
    }
   ],
   "source": [
    "[123] not in my_list"
   ]
  },
  {
   "cell_type": "markdown",
   "id": "53da370c",
   "metadata": {},
   "source": [
    "* Remove an element from the list"
   ]
  },
  {
   "cell_type": "code",
   "execution_count": 72,
   "id": "15570667",
   "metadata": {},
   "outputs": [
    {
     "data": {
      "text/plain": [
       "[1, 'H', 2, 3, 'python', 6, 7, 8, 9, 10, 5, [1, 2], 61, 12, 3, 5]"
      ]
     },
     "execution_count": 72,
     "metadata": {},
     "output_type": "execute_result"
    }
   ],
   "source": [
    "my_list"
   ]
  },
  {
   "cell_type": "code",
   "execution_count": 73,
   "id": "5e165da8",
   "metadata": {},
   "outputs": [
    {
     "data": {
      "text/plain": [
       "[1, 'H', 2, 'python', 6, 7, 8, 9, 10, 5, [1, 2], 61, 12, 3, 5]"
      ]
     },
     "execution_count": 73,
     "metadata": {},
     "output_type": "execute_result"
    }
   ],
   "source": [
    "# using remove method, It will find and delect the first element found 4\n",
    "my_list.remove(3)\n",
    "my_list"
   ]
  },
  {
   "cell_type": "code",
   "execution_count": 74,
   "id": "f6c8ff34",
   "metadata": {},
   "outputs": [
    {
     "data": {
      "text/plain": [
       "['H', 2, 'python', 6, 7, 8, 9, 10, 5, [1, 2], 61, 12, 3, 5]"
      ]
     },
     "execution_count": 74,
     "metadata": {},
     "output_type": "execute_result"
    }
   ],
   "source": [
    "# using del keyword. It will delect the element present at the zeroth index \n",
    "del my_list[0]\n",
    "my_list"
   ]
  },
  {
   "cell_type": "markdown",
   "id": "ffcbd1c6",
   "metadata": {},
   "source": [
    "* Iterate the list"
   ]
  },
  {
   "cell_type": "code",
   "execution_count": 75,
   "id": "55373926",
   "metadata": {},
   "outputs": [
    {
     "name": "stdout",
     "output_type": "stream",
     "text": [
      "H\n",
      "2\n",
      "python\n",
      "6\n",
      "7\n",
      "8\n",
      "9\n",
      "10\n",
      "5\n",
      "[1, 2]\n",
      "61\n",
      "12\n",
      "3\n",
      "5\n"
     ]
    }
   ],
   "source": [
    "for element in my_list:\n",
    "    print(element)"
   ]
  },
  {
   "cell_type": "markdown",
   "id": "bfce366f",
   "metadata": {},
   "source": [
    "* Some pre-defined random list\n",
    "\n"
   ]
  },
  {
   "cell_type": "code",
   "execution_count": 76,
   "id": "e4de7de9",
   "metadata": {},
   "outputs": [],
   "source": [
    "# creat anothor rendom list\n",
    "my_list_2 = [1,33,234,46]"
   ]
  },
  {
   "cell_type": "code",
   "execution_count": 77,
   "id": "b544d285",
   "metadata": {},
   "outputs": [
    {
     "data": {
      "text/plain": [
       "4"
      ]
     },
     "execution_count": 77,
     "metadata": {},
     "output_type": "execute_result"
    }
   ],
   "source": [
    "# find out the length of the list\n",
    "len(my_list_2)"
   ]
  },
  {
   "cell_type": "code",
   "execution_count": 78,
   "id": "c10e5c38",
   "metadata": {},
   "outputs": [
    {
     "data": {
      "text/plain": [
       "[46, 234, 33, 1]"
      ]
     },
     "execution_count": 78,
     "metadata": {},
     "output_type": "execute_result"
    }
   ],
   "source": [
    "# length of the list\n",
    "my_list_2.reverse()\n",
    "my_list_2"
   ]
  },
  {
   "cell_type": "code",
   "execution_count": 79,
   "id": "d72eac0e",
   "metadata": {},
   "outputs": [
    {
     "data": {
      "text/plain": [
       "[1, 33, 46, 234]"
      ]
     },
     "execution_count": 79,
     "metadata": {},
     "output_type": "execute_result"
    }
   ],
   "source": [
    "# sort the list\n",
    "my_list_2.sort()\n",
    "my_list_2"
   ]
  },
  {
   "cell_type": "code",
   "execution_count": 80,
   "id": "52ee68d8",
   "metadata": {},
   "outputs": [
    {
     "data": {
      "text/plain": [
       "[3, 5, 10, 23, 29]"
      ]
     },
     "execution_count": 80,
     "metadata": {},
     "output_type": "execute_result"
    }
   ],
   "source": [
    "# another way of sorting list\n",
    "sample_list = [10,23,29,3,5]\n",
    "sorted(sample_list)"
   ]
  },
  {
   "cell_type": "markdown",
   "id": "f0159e22",
   "metadata": {},
   "source": [
    "* Nested List"
   ]
  },
  {
   "cell_type": "markdown",
   "id": "c1c19427",
   "metadata": {},
   "source": [
    "Some or all of the elements in the list of type list.\n"
   ]
  },
  {
   "cell_type": "code",
   "execution_count": 81,
   "id": "047d136d",
   "metadata": {},
   "outputs": [
    {
     "data": {
      "text/plain": [
       "[1, 2, [4, 6, 2], ['a', 'f', 'j', 'u'], 'T', ['A', 'A', 'A']]"
      ]
     },
     "execution_count": 81,
     "metadata": {},
     "output_type": "execute_result"
    }
   ],
   "source": [
    "# define a sample nested list\n",
    "my_list_3 = [1,2,[4,6,2],['a','f','j','u'],'T',['A','A','A']]\n",
    "my_list_3"
   ]
  },
  {
   "cell_type": "code",
   "execution_count": 82,
   "id": "ff32e57a",
   "metadata": {},
   "outputs": [
    {
     "data": {
      "text/plain": [
       "6"
      ]
     },
     "execution_count": 82,
     "metadata": {},
     "output_type": "execute_result"
    }
   ],
   "source": [
    "# length of the list\n",
    "len(my_list_3)"
   ]
  },
  {
   "cell_type": "code",
   "execution_count": 83,
   "id": "042ef02e",
   "metadata": {},
   "outputs": [
    {
     "data": {
      "text/plain": [
       "[4, 6, 2]"
      ]
     },
     "execution_count": 83,
     "metadata": {},
     "output_type": "execute_result"
    }
   ],
   "source": [
    "# second element is a single element\n",
    "my_list_3[2]"
   ]
  },
  {
   "cell_type": "code",
   "execution_count": 84,
   "id": "47ca692f",
   "metadata": {},
   "outputs": [
    {
     "data": {
      "text/plain": [
       "['a', 'f', 'j', 'u']"
      ]
     },
     "execution_count": 84,
     "metadata": {},
     "output_type": "execute_result"
    }
   ],
   "source": [
    "# third element is of type list\n",
    "my_list_3[3]"
   ]
  },
  {
   "cell_type": "code",
   "execution_count": 85,
   "id": "9580bf4c",
   "metadata": {},
   "outputs": [
    {
     "data": {
      "text/plain": [
       "6"
      ]
     },
     "execution_count": 85,
     "metadata": {},
     "output_type": "execute_result"
    }
   ],
   "source": [
    "# access particuler element of the third element (list type element)\n",
    "my_list_3[2][1]"
   ]
  },
  {
   "cell_type": "code",
   "execution_count": 86,
   "id": "d146d0d3",
   "metadata": {},
   "outputs": [
    {
     "data": {
      "text/plain": [
       "'u'"
      ]
     },
     "execution_count": 86,
     "metadata": {},
     "output_type": "execute_result"
    }
   ],
   "source": [
    "# access element with negative index\n",
    "my_list_3[-3][-1]"
   ]
  },
  {
   "cell_type": "markdown",
   "id": "af64434a",
   "metadata": {},
   "source": [
    "## Pronblem Statement :"
   ]
  },
  {
   "cell_type": "markdown",
   "id": "9724259f",
   "metadata": {},
   "source": [
    "Analytics Vidya conducted an assessment test to hire Data Scientist. The candidates were evaluated on 5 different subject A,B,C,D,E. The marks of 5 different subjects out of 100 are given below. Help Analytics Vidya to find out the answers of the following question.\n",
    "* Who scored the highest marks in the subject B?"
   ]
  },
  {
   "cell_type": "code",
   "execution_count": 87,
   "id": "0786fd3c",
   "metadata": {},
   "outputs": [],
   "source": [
    "# student marks\n",
    "student_marks = [['Name',['A','B','C','D','E']],\n",
    "                 ['Thyme',  [50,40,25,58,78]],\n",
    "                 ['Sarawat',[40,39,42,59,90]],\n",
    "                 ['Tine',   [30,89,48,20,93]],\n",
    "                 ['Kavin',  [90,67,39,81,99]],\n",
    "                 ['Ren',    [80,67,50,96,90]]]"
   ]
  },
  {
   "cell_type": "code",
   "execution_count": 88,
   "id": "c75a89bb",
   "metadata": {},
   "outputs": [
    {
     "data": {
      "text/plain": [
       "['Name', ['A', 'B', 'C', 'D', 'E']]"
      ]
     },
     "execution_count": 88,
     "metadata": {},
     "output_type": "execute_result"
    }
   ],
   "source": [
    "student_marks[0]"
   ]
  },
  {
   "cell_type": "code",
   "execution_count": 89,
   "id": "c76b081f",
   "metadata": {},
   "outputs": [
    {
     "data": {
      "text/plain": [
       "['Thyme', [50, 40, 25, 58, 78]]"
      ]
     },
     "execution_count": 89,
     "metadata": {},
     "output_type": "execute_result"
    }
   ],
   "source": [
    "student_marks[1]"
   ]
  },
  {
   "cell_type": "code",
   "execution_count": 90,
   "id": "584b4c21",
   "metadata": {},
   "outputs": [
    {
     "data": {
      "text/plain": [
       "['Sarawat', [40, 39, 42, 59, 90]]"
      ]
     },
     "execution_count": 90,
     "metadata": {},
     "output_type": "execute_result"
    }
   ],
   "source": [
    "student_marks[2]"
   ]
  },
  {
   "cell_type": "code",
   "execution_count": 91,
   "id": "06774615",
   "metadata": {},
   "outputs": [
    {
     "data": {
      "text/plain": [
       "['Tine', [30, 89, 48, 20, 93]]"
      ]
     },
     "execution_count": 91,
     "metadata": {},
     "output_type": "execute_result"
    }
   ],
   "source": [
    "student_marks[3]\n"
   ]
  },
  {
   "cell_type": "code",
   "execution_count": 92,
   "id": "5ef8330e",
   "metadata": {},
   "outputs": [
    {
     "data": {
      "text/plain": [
       "['Kavin', [90, 67, 39, 81, 99]]"
      ]
     },
     "execution_count": 92,
     "metadata": {},
     "output_type": "execute_result"
    }
   ],
   "source": [
    "student_marks[4]"
   ]
  },
  {
   "cell_type": "code",
   "execution_count": 93,
   "id": "c1afc344",
   "metadata": {},
   "outputs": [
    {
     "data": {
      "text/plain": [
       "['Ren', [80, 67, 50, 96, 90]]"
      ]
     },
     "execution_count": 93,
     "metadata": {},
     "output_type": "execute_result"
    }
   ],
   "source": [
    "student_marks[5]"
   ]
  },
  {
   "cell_type": "code",
   "execution_count": null,
   "id": "90a4e80d",
   "metadata": {},
   "outputs": [],
   "source": []
  },
  {
   "cell_type": "markdown",
   "id": "14fc0a2e",
   "metadata": {},
   "source": [
    "## Set  02/08/2022"
   ]
  },
  {
   "cell_type": "code",
   "execution_count": 4,
   "id": "d48a07b4",
   "metadata": {},
   "outputs": [
    {
     "data": {
      "text/plain": [
       "{4, 9, 'A', 'F', 'O', 'd'}"
      ]
     },
     "execution_count": 4,
     "metadata": {},
     "output_type": "execute_result"
    }
   ],
   "source": [
    "my_set = {'A','d','F',4,'O',9}\n",
    "my_set"
   ]
  },
  {
   "cell_type": "code",
   "execution_count": 5,
   "id": "f7893348",
   "metadata": {},
   "outputs": [
    {
     "data": {
      "text/plain": [
       "{3, 7, 8, 9, 'r', 'u', 'y'}"
      ]
     },
     "execution_count": 5,
     "metadata": {},
     "output_type": "execute_result"
    }
   ],
   "source": [
    "set = {8,8,3,7,9,'r','y','u'}\n",
    "set"
   ]
  },
  {
   "cell_type": "markdown",
   "id": "3bfd951c",
   "metadata": {},
   "source": [
    "* Defining set from a List and Tuple"
   ]
  },
  {
   "cell_type": "code",
   "execution_count": 6,
   "id": "8094546f",
   "metadata": {},
   "outputs": [
    {
     "data": {
      "text/plain": [
       "{2, 4, 5, 9, 'A', 'B', 'c', 'w'}"
      ]
     },
     "execution_count": 6,
     "metadata": {},
     "output_type": "execute_result"
    }
   ],
   "source": [
    "my_list = ['A','B',5,9,2,4,'c','w']\n",
    "my_set_from_list = set(my_list)\n",
    "my_set_from_list"
   ]
  },
  {
   "cell_type": "code",
   "execution_count": 7,
   "id": "c3199434",
   "metadata": {},
   "outputs": [
    {
     "data": {
      "text/plain": [
       "{2, 4, 5, 9, 'A', 'B', 'c', 'w'}"
      ]
     },
     "execution_count": 7,
     "metadata": {},
     "output_type": "execute_result"
    }
   ],
   "source": [
    "my_set = ['A','B',1,2,'B','A']\n",
    "my_set_from_list = set(my_list)\n",
    "my_set_from_list"
   ]
  },
  {
   "cell_type": "code",
   "execution_count": 3,
   "id": "040a71b8",
   "metadata": {},
   "outputs": [
    {
     "data": {
      "text/plain": [
       "{2, 4, 5, 9, 'A', 'B', 'c', 'w'}"
      ]
     },
     "execution_count": 3,
     "metadata": {},
     "output_type": "execute_result"
    }
   ],
   "source": [
    "my_tuple = ('A','B',5,9,2,4,'c','w')\n",
    "my_set_from_tuple = set(my_tuple)\n",
    "my_set_from_tuple"
   ]
  },
  {
   "cell_type": "markdown",
   "id": "e24ff512",
   "metadata": {},
   "source": [
    "* Add element to the set"
   ]
  },
  {
   "cell_type": "code",
   "execution_count": 6,
   "id": "5732a5bc",
   "metadata": {},
   "outputs": [
    {
     "data": {
      "text/plain": [
       "{4, 9, 'A', 'F', 'O', 'U', 'd'}"
      ]
     },
     "execution_count": 6,
     "metadata": {},
     "output_type": "execute_result"
    }
   ],
   "source": [
    "my_set.add('U')\n",
    "my_set"
   ]
  },
  {
   "cell_type": "markdown",
   "id": "7998cd7e",
   "metadata": {},
   "source": [
    "* Delect an element from set\n",
    "* Discard - it will not throw an error, if the element you want to remove is not present in the set.\n",
    "* remove - it will thorow an error, if the elememnt you want to remove is not present in that set"
   ]
  },
  {
   "cell_type": "code",
   "execution_count": 7,
   "id": "b2ca7cad",
   "metadata": {},
   "outputs": [],
   "source": [
    "my_set = {10,12,34,'T','H','Y','M','E','F',4}"
   ]
  },
  {
   "cell_type": "code",
   "execution_count": 8,
   "id": "de099c59",
   "metadata": {},
   "outputs": [
    {
     "data": {
      "text/plain": [
       "{10, 34, 4, 'E', 'F', 'H', 'M', 'T', 'Y'}"
      ]
     },
     "execution_count": 8,
     "metadata": {},
     "output_type": "execute_result"
    }
   ],
   "source": [
    "my_set.discard(12)\n",
    "my_set"
   ]
  },
  {
   "cell_type": "code",
   "execution_count": 9,
   "id": "b1edea63",
   "metadata": {},
   "outputs": [
    {
     "ename": "KeyError",
     "evalue": "'K'",
     "output_type": "error",
     "traceback": [
      "\u001b[1;31m---------------------------------------------------------------------------\u001b[0m",
      "\u001b[1;31mKeyError\u001b[0m                                  Traceback (most recent call last)",
      "Input \u001b[1;32mIn [9]\u001b[0m, in \u001b[0;36m<cell line: 1>\u001b[1;34m()\u001b[0m\n\u001b[1;32m----> 1\u001b[0m \u001b[43mmy_set\u001b[49m\u001b[38;5;241;43m.\u001b[39;49m\u001b[43mremove\u001b[49m\u001b[43m(\u001b[49m\u001b[38;5;124;43m'\u001b[39;49m\u001b[38;5;124;43mK\u001b[39;49m\u001b[38;5;124;43m'\u001b[39;49m\u001b[43m)\u001b[49m\n\u001b[0;32m      2\u001b[0m my_set\n",
      "\u001b[1;31mKeyError\u001b[0m: 'K'"
     ]
    }
   ],
   "source": [
    "my_set.remove('K')\n",
    "my_set"
   ]
  },
  {
   "cell_type": "markdown",
   "id": "1114f00e",
   "metadata": {},
   "source": [
    "### Difference between teo sets\n",
    "#### A - B"
   ]
  },
  {
   "cell_type": "code",
   "execution_count": 10,
   "id": "ea41ba6a",
   "metadata": {},
   "outputs": [
    {
     "data": {
      "text/plain": [
       "{10, 34, 4, 'E', 'F', 'H', 'M', 'T', 'Y'}"
      ]
     },
     "execution_count": 10,
     "metadata": {},
     "output_type": "execute_result"
    }
   ],
   "source": [
    "# set 1\n",
    "my_set"
   ]
  },
  {
   "cell_type": "code",
   "execution_count": 8,
   "id": "55f642c7",
   "metadata": {},
   "outputs": [
    {
     "data": {
      "text/plain": [
       "{2, 4, 5, 9, 'A', 'B', 'c', 'w'}"
      ]
     },
     "execution_count": 8,
     "metadata": {},
     "output_type": "execute_result"
    }
   ],
   "source": [
    "# set 2\n",
    "my_set_from_list"
   ]
  },
  {
   "cell_type": "code",
   "execution_count": 12,
   "id": "e27d05c7",
   "metadata": {},
   "outputs": [
    {
     "data": {
      "text/plain": [
       "{10, 34, 'E', 'F', 'H', 'M', 'T', 'Y'}"
      ]
     },
     "execution_count": 12,
     "metadata": {},
     "output_type": "execute_result"
    }
   ],
   "source": [
    "# difference of twoo sets\n",
    "my_set.difference(my_set_from_list)"
   ]
  },
  {
   "cell_type": "code",
   "execution_count": 13,
   "id": "e8858ebf",
   "metadata": {},
   "outputs": [
    {
     "data": {
      "text/plain": [
       "{10, 34, 4, 'E', 'F', 'H', 'M', 'T', 'Y'}"
      ]
     },
     "execution_count": 13,
     "metadata": {},
     "output_type": "execute_result"
    }
   ],
   "source": [
    "# it will not update the results, of not stored in a variable\n",
    "my_set"
   ]
  },
  {
   "cell_type": "code",
   "execution_count": 14,
   "id": "24e4410d",
   "metadata": {},
   "outputs": [
    {
     "data": {
      "text/plain": [
       "{10, 34, 'E', 'F', 'H', 'M', 'T', 'Y'}"
      ]
     },
     "execution_count": 14,
     "metadata": {},
     "output_type": "execute_result"
    }
   ],
   "source": [
    "# Use the  difference update to store results directly\n",
    "my_set.difference_update(my_set_from_list)\n",
    "my_set"
   ]
  },
  {
   "cell_type": "markdown",
   "id": "3eb3f8a4",
   "metadata": {},
   "source": [
    "## Intersection of two sets"
   ]
  },
  {
   "cell_type": "code",
   "execution_count": 13,
   "id": "3eea50aa",
   "metadata": {},
   "outputs": [],
   "source": [
    "# set 1\n",
    "my_set1 = {'a','e','i','o','u',9,7,5,8}"
   ]
  },
  {
   "cell_type": "code",
   "execution_count": 11,
   "id": "10b6747d",
   "metadata": {},
   "outputs": [],
   "source": [
    "# set2\n",
    "my_set2 = {'A','Y','P',2,9,4,1}"
   ]
  },
  {
   "cell_type": "code",
   "execution_count": 19,
   "id": "853fbc0f",
   "metadata": {},
   "outputs": [
    {
     "data": {
      "text/plain": [
       "{9}"
      ]
     },
     "execution_count": 19,
     "metadata": {},
     "output_type": "execute_result"
    }
   ],
   "source": [
    "# intersection of two sets\n",
    "my_set1.intersection(my_set2)\n"
   ]
  },
  {
   "cell_type": "code",
   "execution_count": 17,
   "id": "26ad695f",
   "metadata": {},
   "outputs": [
    {
     "data": {
      "text/plain": [
       "{5, 7, 8, 9, 'a', 'e', 'i', 'o', 'u'}"
      ]
     },
     "execution_count": 17,
     "metadata": {},
     "output_type": "execute_result"
    }
   ],
   "source": []
  },
  {
   "cell_type": "markdown",
   "id": "5f79add5",
   "metadata": {},
   "source": [
    "## Other operation on set\n",
    "* is_disjoint\n",
    "* is_subset\n",
    "* is_superset\n",
    "* Union"
   ]
  },
  {
   "cell_type": "code",
   "execution_count": 1,
   "id": "24f122e7",
   "metadata": {},
   "outputs": [],
   "source": [
    "# define 3 random sets\n",
    "set1 = {'A','B','C','D','E'}\n",
    "set2 = {'A',2,4,'O','P'}\n",
    "set3 = {'B','T','S'}"
   ]
  },
  {
   "cell_type": "code",
   "execution_count": 21,
   "id": "7cf8cf2a",
   "metadata": {},
   "outputs": [
    {
     "data": {
      "text/plain": [
       "False"
      ]
     },
     "execution_count": 21,
     "metadata": {},
     "output_type": "execute_result"
    }
   ],
   "source": [
    "# check 2 sets are disjoint sets\n",
    "set1.isdisjoint(set2)"
   ]
  },
  {
   "cell_type": "code",
   "execution_count": 24,
   "id": "050b1333",
   "metadata": {},
   "outputs": [
    {
     "data": {
      "text/plain": [
       "False"
      ]
     },
     "execution_count": 24,
     "metadata": {},
     "output_type": "execute_result"
    }
   ],
   "source": [
    "set1.isdisjoint(set3)"
   ]
  },
  {
   "cell_type": "code",
   "execution_count": 25,
   "id": "6d3f05b8",
   "metadata": {},
   "outputs": [
    {
     "data": {
      "text/plain": [
       "False"
      ]
     },
     "execution_count": 25,
     "metadata": {},
     "output_type": "execute_result"
    }
   ],
   "source": [
    "# check set is subset of another set\n",
    "set1.issubset(set2)"
   ]
  },
  {
   "cell_type": "code",
   "execution_count": 26,
   "id": "f579bdf2",
   "metadata": {},
   "outputs": [
    {
     "data": {
      "text/plain": [
       "False"
      ]
     },
     "execution_count": 26,
     "metadata": {},
     "output_type": "execute_result"
    }
   ],
   "source": [
    "# Check set is superset of another or not\n",
    "set1.issuperset(set2)"
   ]
  },
  {
   "cell_type": "code",
   "execution_count": 27,
   "id": "c63e9cff",
   "metadata": {},
   "outputs": [
    {
     "data": {
      "text/plain": [
       "{2, 4, 'A', 'B', 'O', 'P', 'S', 'T'}"
      ]
     },
     "execution_count": 27,
     "metadata": {},
     "output_type": "execute_result"
    }
   ],
   "source": [
    "# union of two set\n",
    "set2.union(set3)"
   ]
  },
  {
   "cell_type": "markdown",
   "id": "f549b8ac",
   "metadata": {},
   "source": [
    "## Update set \n",
    "* update set with new values, it will add the values which are not present in the original set."
   ]
  },
  {
   "cell_type": "code",
   "execution_count": 4,
   "id": "359dd7f4",
   "metadata": {},
   "outputs": [
    {
     "data": {
      "text/plain": [
       "{'A', 'B', 'C', 'D', 'E', 'I', 'N', 'T'}"
      ]
     },
     "execution_count": 4,
     "metadata": {},
     "output_type": "execute_result"
    }
   ],
   "source": [
    "set1.update({'T','I','N','E'})\n",
    "set1"
   ]
  },
  {
   "cell_type": "markdown",
   "id": "ee37d62a",
   "metadata": {},
   "source": [
    "## Iterate the set"
   ]
  },
  {
   "cell_type": "code",
   "execution_count": 5,
   "id": "0bb5a8c7",
   "metadata": {},
   "outputs": [
    {
     "name": "stdout",
     "output_type": "stream",
     "text": [
      "T\n",
      "N\n",
      "B\n",
      "D\n",
      "A\n",
      "E\n",
      "I\n",
      "C\n"
     ]
    }
   ],
   "source": [
    "for element in set1:\n",
    "    print(element)"
   ]
  },
  {
   "cell_type": "markdown",
   "id": "556e4844",
   "metadata": {},
   "source": [
    "# Dictionary\n",
    "* A dictionary is an unorderd data structure.\n",
    "* Elements are seprated by a comma and stored as key : value pair.\n",
    "* A dictionary us enclosed within curly brackets."
   ]
  },
  {
   "cell_type": "code",
   "execution_count": 4,
   "id": "43fd95f6",
   "metadata": {},
   "outputs": [],
   "source": [
    "dict1 = {'Ren':[100,60],'Kavin':[199,200],'MJ':[150,200]}"
   ]
  },
  {
   "cell_type": "code",
   "execution_count": 12,
   "id": "6b8b4e0d",
   "metadata": {},
   "outputs": [
    {
     "data": {
      "text/plain": [
       "[100, 60]"
      ]
     },
     "execution_count": 12,
     "metadata": {},
     "output_type": "execute_result"
    }
   ],
   "source": [
    "# accessing elements in dict\n",
    "dict1['Ren']"
   ]
  },
  {
   "cell_type": "code",
   "execution_count": 13,
   "id": "a22f3d7c",
   "metadata": {},
   "outputs": [
    {
     "data": {
      "text/plain": [
       "{'Ren': [100, 60], 'Kavin': [199, 200], 'MJ': [150, 200], 'Gorya': [200, 500]}"
      ]
     },
     "execution_count": 13,
     "metadata": {},
     "output_type": "execute_result"
    }
   ],
   "source": [
    "# adding element in dict\n",
    "dict1['Gorya'] =[200,500]\n",
    "dict1"
   ]
  },
  {
   "cell_type": "code",
   "execution_count": 14,
   "id": "c6ed6ace",
   "metadata": {},
   "outputs": [
    {
     "data": {
      "text/plain": [
       "{'Ren': [100, 60],\n",
       " 'Kavin': [199, 200],\n",
       " 'MJ': [150, 200],\n",
       " 'Gorya': [200, 500],\n",
       " 'Kaning': [200, 600]}"
      ]
     },
     "execution_count": 14,
     "metadata": {},
     "output_type": "execute_result"
    }
   ],
   "source": [
    "dict1.update({'Kaning':[200,600]})\n",
    "dict1"
   ]
  },
  {
   "cell_type": "code",
   "execution_count": 5,
   "id": "58397b48",
   "metadata": {},
   "outputs": [
    {
     "data": {
      "text/plain": [
       "{'Ren': [100, 60], 'MJ': [150, 200]}"
      ]
     },
     "execution_count": 5,
     "metadata": {},
     "output_type": "execute_result"
    }
   ],
   "source": [
    "# delect element in dict\n",
    "del dict1 ['Kavin']\n",
    "dict1"
   ]
  },
  {
   "cell_type": "code",
   "execution_count": 2,
   "id": "bd589d36",
   "metadata": {},
   "outputs": [],
   "source": [
    "# define dictonary\n",
    "my_dict =   {\n",
    "    'name'       : 'Brightwin',\n",
    "    'age'        : 24,\n",
    "    'roll no'    : 'F4',\n",
    "    'percentage' : 80,\n",
    "    'attendance' : 50,\n",
    "    'city'       : 'Bangkok',\n",
    "    'country'    : 'Thiland'\n",
    "}"
   ]
  },
  {
   "cell_type": "code",
   "execution_count": 3,
   "id": "19cb3c84",
   "metadata": {},
   "outputs": [
    {
     "name": "stdout",
     "output_type": "stream",
     "text": [
      "Name is : Brightwin\n"
     ]
    }
   ],
   "source": [
    "# access key of the dictonary\n",
    "print('Name is :',my_dict['name'])"
   ]
  },
  {
   "cell_type": "code",
   "execution_count": 6,
   "id": "2400dabd",
   "metadata": {},
   "outputs": [
    {
     "name": "stdout",
     "output_type": "stream",
     "text": [
      "Age before updatation is : 24\n",
      "Age after updatation is : 25\n"
     ]
    }
   ],
   "source": [
    "print('Age before updatation is :',my_dict['age'])\n",
    "\n",
    "# update value if the key\n",
    "my_dict['age'] = 25\n",
    "print('Age after updatation is :',my_dict['age'])"
   ]
  },
  {
   "cell_type": "code",
   "execution_count": 7,
   "id": "9dcc54be",
   "metadata": {},
   "outputs": [
    {
     "data": {
      "text/plain": [
       "dict_keys(['name', 'age', 'roll no', 'percentage', 'attendance', 'city', 'country'])"
      ]
     },
     "execution_count": 7,
     "metadata": {},
     "output_type": "execute_result"
    }
   ],
   "source": [
    "# keys of dictonary\n",
    "my_dict.keys()"
   ]
  },
  {
   "cell_type": "code",
   "execution_count": 8,
   "id": "86fc4e73",
   "metadata": {},
   "outputs": [
    {
     "data": {
      "text/plain": [
       "dict_values(['Brightwin', 25, 'F4', 80, 50, 'Bangkok', 'Thiland'])"
      ]
     },
     "execution_count": 8,
     "metadata": {},
     "output_type": "execute_result"
    }
   ],
   "source": [
    "# values of dictonary\n",
    "my_dict.values()"
   ]
  },
  {
   "cell_type": "code",
   "execution_count": 9,
   "id": "943058f4",
   "metadata": {},
   "outputs": [],
   "source": [
    "# update dictionary\n",
    "my_dict.update({'Pincode'   : 10100, 'Last name'   : 'Chivaaree'})"
   ]
  },
  {
   "cell_type": "code",
   "execution_count": 10,
   "id": "2dfdfa4e",
   "metadata": {},
   "outputs": [
    {
     "data": {
      "text/plain": [
       "{'name': 'Brightwin',\n",
       " 'age': 25,\n",
       " 'roll no': 'F4',\n",
       " 'percentage': 80,\n",
       " 'attendance': 50,\n",
       " 'city': 'Bangkok',\n",
       " 'country': 'Thiland',\n",
       " 'Pincode': 10100,\n",
       " 'Last name': 'Chivaaree'}"
      ]
     },
     "execution_count": 10,
     "metadata": {},
     "output_type": "execute_result"
    }
   ],
   "source": [
    "my_dict"
   ]
  },
  {
   "cell_type": "code",
   "execution_count": 11,
   "id": "b324e272",
   "metadata": {},
   "outputs": [
    {
     "name": "stdout",
     "output_type": "stream",
     "text": [
      "{'name': 'Brightwin', 'age': 25, 'roll no': 'F4', 'percentage': 80, 'attendance': 50, 'city': 'Bangkok', 'country': 'Thiland', 'Pincode': 10100, 'Last name': 'Chivaaree', 'new_key': 'new_value'}\n"
     ]
    }
   ],
   "source": [
    "# add new key in dictionary \n",
    "my_dict['new_key'] = 'new_value'\n",
    "print(my_dict)"
   ]
  },
  {
   "cell_type": "markdown",
   "id": "7e6c952b",
   "metadata": {},
   "source": [
    "## Dictionary keys\n",
    "* Most of the data types can be used as keys in the dictionaries"
   ]
  },
  {
   "cell_type": "code",
   "execution_count": 12,
   "id": "e30cd770",
   "metadata": {},
   "outputs": [],
   "source": [
    "sample = {\n",
    "    'string'  : 'string',\n",
    "    10        : 'interger',\n",
    "    1.9       : 'float',\n",
    "    False     : 'boolean'\n",
    "}"
   ]
  },
  {
   "cell_type": "markdown",
   "id": "855e0ced",
   "metadata": {},
   "source": [
    "* Duplicate keys"
   ]
  },
  {
   "cell_type": "code",
   "execution_count": 14,
   "id": "92119551",
   "metadata": {},
   "outputs": [],
   "source": [
    "sample1 = {\n",
    "    'A'  : 10,\n",
    "    'B'  : 30,\n",
    "    'C'  : 20\n",
    "}"
   ]
  },
  {
   "cell_type": "code",
   "execution_count": 15,
   "id": "b98d5b12",
   "metadata": {},
   "outputs": [
    {
     "data": {
      "text/plain": [
       "10"
      ]
     },
     "execution_count": 15,
     "metadata": {},
     "output_type": "execute_result"
    }
   ],
   "source": [
    "sample1['A']"
   ]
  },
  {
   "cell_type": "code",
   "execution_count": 16,
   "id": "fba93e28",
   "metadata": {},
   "outputs": [],
   "source": [
    "sample1 = {\n",
    "    'A'  : 10,\n",
    "    'B'  : 30,\n",
    "    'C'  : 20,\n",
    "    'A'  : 50\n",
    "}"
   ]
  },
  {
   "cell_type": "code",
   "execution_count": 17,
   "id": "40993aa6",
   "metadata": {},
   "outputs": [
    {
     "data": {
      "text/plain": [
       "50"
      ]
     },
     "execution_count": 17,
     "metadata": {},
     "output_type": "execute_result"
    }
   ],
   "source": [
    "sample1['A']"
   ]
  },
  {
   "cell_type": "markdown",
   "id": "59999089",
   "metadata": {},
   "source": [
    "###  # If we add duplicate keys, it will not throw an error instead it will overwright the value the value which is added in the last."
   ]
  },
  {
   "cell_type": "markdown",
   "id": "4adf488a",
   "metadata": {},
   "source": [
    "## A dictionary key must be of a that is immutable"
   ]
  },
  {
   "cell_type": "code",
   "execution_count": 1,
   "id": "c2b1db69",
   "metadata": {},
   "outputs": [
    {
     "ename": "SyntaxError",
     "evalue": "invalid syntax (1784269231.py, line 3)",
     "output_type": "error",
     "traceback": [
      "\u001b[1;36m  Input \u001b[1;32mIn [1]\u001b[1;36m\u001b[0m\n\u001b[1;33m    1 = 'integer',\u001b[0m\n\u001b[1;37m      ^\u001b[0m\n\u001b[1;31mSyntaxError\u001b[0m\u001b[1;31m:\u001b[0m invalid syntax\n"
     ]
    }
   ],
   "source": [
    "# List is mutable, hence not allowed\n",
    "sample = {\n",
    "    1 = 'integer',\n",
    "    [1,2] : 'list'\n",
    "}"
   ]
  },
  {
   "cell_type": "code",
   "execution_count": 22,
   "id": "85071b60",
   "metadata": {},
   "outputs": [
    {
     "ename": "TypeError",
     "evalue": "unhashable type: 'set'",
     "output_type": "error",
     "traceback": [
      "\u001b[1;31m---------------------------------------------------------------------------\u001b[0m",
      "\u001b[1;31mTypeError\u001b[0m                                 Traceback (most recent call last)",
      "Input \u001b[1;32mIn [22]\u001b[0m, in \u001b[0;36m<cell line: 3>\u001b[1;34m()\u001b[0m\n\u001b[0;32m      1\u001b[0m \u001b[38;5;66;03m# set is mutable, hence not allowed\u001b[39;00m\n\u001b[1;32m----> 2\u001b[0m sample \u001b[38;5;241m=\u001b[39m{\n\u001b[0;32m      3\u001b[0m     \u001b[38;5;241m1\u001b[39m : \u001b[38;5;124m'\u001b[39m\u001b[38;5;124minteger\u001b[39m\u001b[38;5;124m'\u001b[39m,\n\u001b[0;32m      4\u001b[0m     {\u001b[38;5;241m1\u001b[39m,\u001b[38;5;241m2\u001b[39m} : \u001b[38;5;124m'\u001b[39m\u001b[38;5;124mset\u001b[39m\u001b[38;5;124m'\u001b[39m\n\u001b[0;32m      5\u001b[0m }\n",
      "\u001b[1;31mTypeError\u001b[0m: unhashable type: 'set'"
     ]
    }
   ],
   "source": [
    "# set is mutable, hence not allowed\n",
    "sample ={\n",
    "    1 : 'integer',\n",
    "    {1,2} : 'set'\n",
    "}"
   ]
  },
  {
   "cell_type": "code",
   "execution_count": 24,
   "id": "8752c7bd",
   "metadata": {},
   "outputs": [],
   "source": [
    "# tuple is immutable, hence not allowed\n",
    "sample = {\n",
    "    1    : 'integer',\n",
    "    (1,2) : 'tuple'\n",
    "}"
   ]
  },
  {
   "cell_type": "markdown",
   "id": "3a7b5a65",
   "metadata": {},
   "source": [
    "* Compare 2 dictionaries by changing their order."
   ]
  },
  {
   "cell_type": "code",
   "execution_count": 25,
   "id": "658aec95",
   "metadata": {},
   "outputs": [
    {
     "data": {
      "text/plain": [
       "True"
      ]
     },
     "execution_count": 25,
     "metadata": {},
     "output_type": "execute_result"
    }
   ],
   "source": [
    "dict1 = {\n",
    "    'key1' : 'value1',\n",
    "    'key2' : 'value2'\n",
    "}\n",
    "dict2 ={\n",
    "    'key2' : 'value2',\n",
    "    'key1' : 'value1'\n",
    "}\n",
    "(dict1 == dict2)"
   ]
  },
  {
   "cell_type": "code",
   "execution_count": 26,
   "id": "7c35d4e3",
   "metadata": {},
   "outputs": [
    {
     "data": {
      "text/plain": [
       "False"
      ]
     },
     "execution_count": 26,
     "metadata": {},
     "output_type": "execute_result"
    }
   ],
   "source": [
    "dict1 = {\n",
    "    'key1' : 'value1',\n",
    "    'key2' : 'value2'\n",
    "}\n",
    "dict2 ={\n",
    "    'key2' : 'value3',\n",
    "    'key1' : 'value1'\n",
    "}\n",
    "(dict1 == dict2)"
   ]
  },
  {
   "cell_type": "code",
   "execution_count": 29,
   "id": "ee414660",
   "metadata": {},
   "outputs": [
    {
     "name": "stdout",
     "output_type": "stream",
     "text": [
      "name Brightwin\n",
      "age 25\n",
      "roll no F4\n",
      "percentage 80\n",
      "attendance 50\n",
      "city Bangkok\n",
      "country Thiland\n",
      "Pincode 10100\n",
      "Last name Chivaaree\n",
      "new_key new_value\n"
     ]
    }
   ],
   "source": [
    "# iterate through key value pairs of the dictionary\n",
    "for key,value in my_dict.items():\n",
    "    print(key,value)"
   ]
  },
  {
   "cell_type": "code",
   "execution_count": 31,
   "id": "5c6c60ba",
   "metadata": {},
   "outputs": [
    {
     "data": {
      "text/plain": [
       "{'name': 'Brightwin',\n",
       " 'age': 25,\n",
       " 'roll no': 'F4',\n",
       " 'percentage': 80,\n",
       " 'attendance': 50,\n",
       " 'city': 'Bangkok',\n",
       " 'country': 'Thiland',\n",
       " 'Pincode': 10100,\n",
       " 'Last name': 'Chivaaree',\n",
       " 'new_key': 'new_value'}"
      ]
     },
     "execution_count": 31,
     "metadata": {},
     "output_type": "execute_result"
    }
   ],
   "source": [
    "# sort the dictionary by key\n",
    "my_dict"
   ]
  },
  {
   "cell_type": "code",
   "execution_count": 32,
   "id": "f753822f",
   "metadata": {},
   "outputs": [
    {
     "data": {
      "text/plain": [
       "[('Last name', 'Chivaaree'),\n",
       " ('Pincode', 10100),\n",
       " ('age', 25),\n",
       " ('attendance', 50),\n",
       " ('city', 'Bangkok'),\n",
       " ('country', 'Thiland'),\n",
       " ('name', 'Brightwin'),\n",
       " ('new_key', 'new_value'),\n",
       " ('percentage', 80),\n",
       " ('roll no', 'F4')]"
      ]
     },
     "execution_count": 32,
     "metadata": {},
     "output_type": "execute_result"
    }
   ],
   "source": [
    "sorted(my_dict.items())"
   ]
  },
  {
   "cell_type": "markdown",
   "id": "b19e4b15",
   "metadata": {},
   "source": [
    "## String Manupilation\n",
    "* Define String"
   ]
  },
  {
   "cell_type": "code",
   "execution_count": 33,
   "id": "0f978dad",
   "metadata": {},
   "outputs": [],
   "source": [
    "my_string = \"India is my country.\""
   ]
  },
  {
   "cell_type": "code",
   "execution_count": 34,
   "id": "9d94e28f",
   "metadata": {},
   "outputs": [
    {
     "data": {
      "text/plain": [
       "20"
      ]
     },
     "execution_count": 34,
     "metadata": {},
     "output_type": "execute_result"
    }
   ],
   "source": [
    "len(my_string)"
   ]
  },
  {
   "cell_type": "code",
   "execution_count": 35,
   "id": "f6bcf58f",
   "metadata": {},
   "outputs": [
    {
     "data": {
      "text/plain": [
       "'i'"
      ]
     },
     "execution_count": 35,
     "metadata": {},
     "output_type": "execute_result"
    }
   ],
   "source": [
    "# Access characters in string\n",
    "my_string[6]"
   ]
  },
  {
   "cell_type": "code",
   "execution_count": 36,
   "id": "22f9efbb",
   "metadata": {},
   "outputs": [
    {
     "data": {
      "text/plain": [
       "'r'"
      ]
     },
     "execution_count": 36,
     "metadata": {},
     "output_type": "execute_result"
    }
   ],
   "source": [
    "my_string[-3]"
   ]
  },
  {
   "cell_type": "code",
   "execution_count": 37,
   "id": "7ef9dc59",
   "metadata": {},
   "outputs": [
    {
     "data": {
      "text/plain": [
       "'a is m'"
      ]
     },
     "execution_count": 37,
     "metadata": {},
     "output_type": "execute_result"
    }
   ],
   "source": [
    "my_string[4:10]"
   ]
  },
  {
   "cell_type": "code",
   "execution_count": 48,
   "id": "aa3de86a",
   "metadata": {},
   "outputs": [
    {
     "data": {
      "text/plain": [
       "'.yrtnuoc ym si aidnI'"
      ]
     },
     "execution_count": 48,
     "metadata": {},
     "output_type": "execute_result"
    }
   ],
   "source": [
    "# reverse a string\n",
    "my_string[::-1]"
   ]
  },
  {
   "cell_type": "code",
   "execution_count": 45,
   "id": "590bb3e8",
   "metadata": {},
   "outputs": [
    {
     "data": {
      "text/plain": [
       "'.rno ms in'"
      ]
     },
     "execution_count": 45,
     "metadata": {},
     "output_type": "execute_result"
    }
   ],
   "source": [
    "my_string[::-2]"
   ]
  },
  {
   "cell_type": "code",
   "execution_count": 49,
   "id": "3c59f5a7",
   "metadata": {},
   "outputs": [
    {
     "data": {
      "text/plain": [
       "'India is my country.'"
      ]
     },
     "execution_count": 49,
     "metadata": {},
     "output_type": "execute_result"
    }
   ],
   "source": [
    "# Count of particuler or a sub string in astring\n",
    "my_string"
   ]
  },
  {
   "cell_type": "code",
   "execution_count": 51,
   "id": "5c058954",
   "metadata": {},
   "outputs": [
    {
     "data": {
      "text/plain": [
       "2"
      ]
     },
     "execution_count": 51,
     "metadata": {},
     "output_type": "execute_result"
    }
   ],
   "source": [
    "my_string.count('n')"
   ]
  },
  {
   "cell_type": "code",
   "execution_count": 61,
   "id": "5f1c11b4",
   "metadata": {},
   "outputs": [
    {
     "data": {
      "text/plain": [
       "'dia is my countr'"
      ]
     },
     "execution_count": 61,
     "metadata": {},
     "output_type": "execute_result"
    }
   ],
   "source": [
    "my_string[2:-2]"
   ]
  },
  {
   "cell_type": "code",
   "execution_count": 64,
   "id": "0bce8d0d",
   "metadata": {},
   "outputs": [
    {
     "data": {
      "text/plain": [
       "2"
      ]
     },
     "execution_count": 64,
     "metadata": {},
     "output_type": "execute_result"
    }
   ],
   "source": [
    "my_string[2:-2].count('i')"
   ]
  },
  {
   "cell_type": "code",
   "execution_count": 66,
   "id": "5fd35dc7",
   "metadata": {},
   "outputs": [
    {
     "data": {
      "text/plain": [
       "3"
      ]
     },
     "execution_count": 66,
     "metadata": {},
     "output_type": "execute_result"
    }
   ],
   "source": [
    "my_string[2:-2].count(' ')\n",
    "# here even space is count"
   ]
  },
  {
   "cell_type": "markdown",
   "id": "eb33aacc",
   "metadata": {},
   "source": [
    "### Find a substracting in the string using find and index function\n",
    "1) Find\n",
    "  * If present it will return the staring index.\n",
    "  * If not found, then it will return -1 "
   ]
  },
  {
   "cell_type": "code",
   "execution_count": 67,
   "id": "a4a3a643",
   "metadata": {},
   "outputs": [
    {
     "data": {
      "text/plain": [
       "9"
      ]
     },
     "execution_count": 67,
     "metadata": {},
     "output_type": "execute_result"
    }
   ],
   "source": [
    "my_string.find('my')"
   ]
  },
  {
   "cell_type": "code",
   "execution_count": 72,
   "id": "b33b5a95",
   "metadata": {},
   "outputs": [
    {
     "data": {
      "text/plain": [
       "-1"
      ]
     },
     "execution_count": 72,
     "metadata": {},
     "output_type": "execute_result"
    }
   ],
   "source": [
    "my_string.find('python')"
   ]
  },
  {
   "cell_type": "markdown",
   "id": "7495a05e",
   "metadata": {},
   "source": [
    "2) Index\n",
    "  * If present it eill return the starting index.\n",
    "  * if not found, then it will give error."
   ]
  },
  {
   "cell_type": "code",
   "execution_count": 70,
   "id": "5102873a",
   "metadata": {},
   "outputs": [
    {
     "data": {
      "text/plain": [
       "6"
      ]
     },
     "execution_count": 70,
     "metadata": {},
     "output_type": "execute_result"
    }
   ],
   "source": [
    "my_string.index('is')"
   ]
  },
  {
   "cell_type": "code",
   "execution_count": 73,
   "id": "383a3ca6",
   "metadata": {},
   "outputs": [
    {
     "ename": "ValueError",
     "evalue": "substring not found",
     "output_type": "error",
     "traceback": [
      "\u001b[1;31m---------------------------------------------------------------------------\u001b[0m",
      "\u001b[1;31mValueError\u001b[0m                                Traceback (most recent call last)",
      "Input \u001b[1;32mIn [73]\u001b[0m, in \u001b[0;36m<cell line: 1>\u001b[1;34m()\u001b[0m\n\u001b[1;32m----> 1\u001b[0m \u001b[43mmy_string\u001b[49m\u001b[38;5;241;43m.\u001b[39;49m\u001b[43mindex\u001b[49m\u001b[43m(\u001b[49m\u001b[38;5;124;43m'\u001b[39;49m\u001b[38;5;124;43mpython\u001b[39;49m\u001b[38;5;124;43m'\u001b[39;49m\u001b[43m)\u001b[49m\n",
      "\u001b[1;31mValueError\u001b[0m: substring not found"
     ]
    }
   ],
   "source": [
    "my_string.index('python')"
   ]
  },
  {
   "cell_type": "markdown",
   "id": "8b1e3969",
   "metadata": {},
   "source": [
    "### Check wether if the string startswith or endswith a particular substring or not.\n"
   ]
  },
  {
   "cell_type": "code",
   "execution_count": 74,
   "id": "5ac6caaa",
   "metadata": {},
   "outputs": [
    {
     "data": {
      "text/plain": [
       "'India is my country.'"
      ]
     },
     "execution_count": 74,
     "metadata": {},
     "output_type": "execute_result"
    }
   ],
   "source": [
    "my_string"
   ]
  },
  {
   "cell_type": "code",
   "execution_count": 77,
   "id": "3571f53f",
   "metadata": {},
   "outputs": [
    {
     "data": {
      "text/plain": [
       "False"
      ]
     },
     "execution_count": 77,
     "metadata": {},
     "output_type": "execute_result"
    }
   ],
   "source": [
    "my_string.startswith('game')"
   ]
  },
  {
   "cell_type": "code",
   "execution_count": 79,
   "id": "8055b635",
   "metadata": {},
   "outputs": [
    {
     "data": {
      "text/plain": [
       "False"
      ]
     },
     "execution_count": 79,
     "metadata": {},
     "output_type": "execute_result"
    }
   ],
   "source": [
    "my_string.endswith('y')"
   ]
  },
  {
   "cell_type": "code",
   "execution_count": 80,
   "id": "7bf14b49",
   "metadata": {},
   "outputs": [
    {
     "data": {
      "text/plain": [
       "True"
      ]
     },
     "execution_count": 80,
     "metadata": {},
     "output_type": "execute_result"
    }
   ],
   "source": [
    "my_string.endswith('.')"
   ]
  },
  {
   "cell_type": "markdown",
   "id": "ceb6d16e",
   "metadata": {},
   "source": [
    "### Convert string to Upper and Lower case."
   ]
  },
  {
   "cell_type": "code",
   "execution_count": 81,
   "id": "e926427d",
   "metadata": {},
   "outputs": [
    {
     "data": {
      "text/plain": [
       "'INDIA IS MY COUNTRY.'"
      ]
     },
     "execution_count": 81,
     "metadata": {},
     "output_type": "execute_result"
    }
   ],
   "source": [
    "my_string.upper()"
   ]
  },
  {
   "cell_type": "code",
   "execution_count": 84,
   "id": "b5a78dc5",
   "metadata": {},
   "outputs": [
    {
     "data": {
      "text/plain": [
       "'india is my country.'"
      ]
     },
     "execution_count": 84,
     "metadata": {},
     "output_type": "execute_result"
    }
   ],
   "source": [
    "my_string.lower()"
   ]
  },
  {
   "cell_type": "markdown",
   "id": "3e9464f4",
   "metadata": {},
   "source": [
    "* Capitalized : update the first character of the string to upper case.\n"
   ]
  },
  {
   "cell_type": "code",
   "execution_count": 85,
   "id": "01f72757",
   "metadata": {},
   "outputs": [
    {
     "data": {
      "text/plain": [
       "'India is my country.'"
      ]
     },
     "execution_count": 85,
     "metadata": {},
     "output_type": "execute_result"
    }
   ],
   "source": [
    "my_string.capitalize()"
   ]
  },
  {
   "cell_type": "code",
   "execution_count": 86,
   "id": "14b52e1c",
   "metadata": {},
   "outputs": [
    {
     "data": {
      "text/plain": [
       "False"
      ]
     },
     "execution_count": 86,
     "metadata": {},
     "output_type": "execute_result"
    }
   ],
   "source": [
    "# check wether is in upper or lower case\n",
    "my_string.islower()"
   ]
  },
  {
   "cell_type": "code",
   "execution_count": 87,
   "id": "020fdcb2",
   "metadata": {},
   "outputs": [
    {
     "data": {
      "text/plain": [
       "False"
      ]
     },
     "execution_count": 87,
     "metadata": {},
     "output_type": "execute_result"
    }
   ],
   "source": [
    "my_string.isupper()"
   ]
  },
  {
   "cell_type": "markdown",
   "id": "87b31a27",
   "metadata": {},
   "source": [
    "* Check if the string is digit, alphabetic, alpha-numeric."
   ]
  },
  {
   "cell_type": "code",
   "execution_count": 88,
   "id": "8f01532d",
   "metadata": {},
   "outputs": [
    {
     "data": {
      "text/plain": [
       "True"
      ]
     },
     "execution_count": 88,
     "metadata": {},
     "output_type": "execute_result"
    }
   ],
   "source": [
    "\"2\".isnumeric()"
   ]
  },
  {
   "cell_type": "code",
   "execution_count": 89,
   "id": "3f9c05c5",
   "metadata": {},
   "outputs": [
    {
     "data": {
      "text/plain": [
       "False"
      ]
     },
     "execution_count": 89,
     "metadata": {},
     "output_type": "execute_result"
    }
   ],
   "source": [
    "\"hi1\".isnumeric()"
   ]
  },
  {
   "cell_type": "code",
   "execution_count": 90,
   "id": "5a5a4fd0",
   "metadata": {},
   "outputs": [
    {
     "data": {
      "text/plain": [
       "True"
      ]
     },
     "execution_count": 90,
     "metadata": {},
     "output_type": "execute_result"
    }
   ],
   "source": [
    "\"welcome\".isalpha()"
   ]
  },
  {
   "cell_type": "code",
   "execution_count": 91,
   "id": "50fd709d",
   "metadata": {},
   "outputs": [
    {
     "data": {
      "text/plain": [
       "False"
      ]
     },
     "execution_count": 91,
     "metadata": {},
     "output_type": "execute_result"
    }
   ],
   "source": [
    "\"hello2\".isalpha()"
   ]
  },
  {
   "cell_type": "code",
   "execution_count": 95,
   "id": "0ab58ac9",
   "metadata": {},
   "outputs": [
    {
     "data": {
      "text/plain": [
       "False"
      ]
     },
     "execution_count": 95,
     "metadata": {},
     "output_type": "execute_result"
    }
   ],
   "source": [
    "string = 'Bangtan Boys'\n",
    "string.isalpha()"
   ]
  },
  {
   "cell_type": "code",
   "execution_count": 94,
   "id": "ece65792",
   "metadata": {},
   "outputs": [
    {
     "data": {
      "text/plain": [
       "True"
      ]
     },
     "execution_count": 94,
     "metadata": {},
     "output_type": "execute_result"
    }
   ],
   "source": [
    "string = 'BangtanBoys'\n",
    "string.isalpha()"
   ]
  },
  {
   "cell_type": "markdown",
   "id": "bd4a6acf",
   "metadata": {},
   "source": [
    "### replace substrings"
   ]
  },
  {
   "cell_type": "code",
   "execution_count": 96,
   "id": "858b2a6c",
   "metadata": {},
   "outputs": [
    {
     "data": {
      "text/plain": [
       "'python is easy to learn.'"
      ]
     },
     "execution_count": 96,
     "metadata": {},
     "output_type": "execute_result"
    }
   ],
   "source": [
    "\"html is easy to learn.\".replace('html','python')"
   ]
  },
  {
   "cell_type": "markdown",
   "id": "6f6b41d2",
   "metadata": {},
   "source": [
    "### Split Function "
   ]
  },
  {
   "cell_type": "code",
   "execution_count": 97,
   "id": "09f9b6c4",
   "metadata": {},
   "outputs": [
    {
     "data": {
      "text/plain": [
       "['python', 'is', 'easy', 'to', 'learn']"
      ]
     },
     "execution_count": 97,
     "metadata": {},
     "output_type": "execute_result"
    }
   ],
   "source": [
    "\"python is easy to learn\".split(' ')"
   ]
  },
  {
   "cell_type": "code",
   "execution_count": 98,
   "id": "b8f90496",
   "metadata": {},
   "outputs": [
    {
     "data": {
      "text/plain": [
       "['python is ', ' to learn']"
      ]
     },
     "execution_count": 98,
     "metadata": {},
     "output_type": "execute_result"
    }
   ],
   "source": [
    "\"python is easy to learn\".split('easy')"
   ]
  },
  {
   "cell_type": "markdown",
   "id": "bf41e1f8",
   "metadata": {},
   "source": [
    "## Define function"
   ]
  },
  {
   "cell_type": "code",
   "execution_count": 99,
   "id": "1c3e7ce0",
   "metadata": {},
   "outputs": [],
   "source": [
    "def welcome():\n",
    "    print(\"welcome to the python course!!\")"
   ]
  },
  {
   "cell_type": "code",
   "execution_count": 100,
   "id": "eb21fbf2",
   "metadata": {},
   "outputs": [
    {
     "name": "stdout",
     "output_type": "stream",
     "text": [
      "welcome to the python course!!\n"
     ]
    }
   ],
   "source": [
    "# calling a function in python\n",
    "welcome()"
   ]
  },
  {
   "cell_type": "markdown",
   "id": "1ce56c4c",
   "metadata": {},
   "source": [
    "### return statement\n",
    " * A return statement is used to end the execution of the function call and gives the result.\n",
    " * The statement after the return statements are not executed."
   ]
  },
  {
   "cell_type": "code",
   "execution_count": 2,
   "id": "b046c7a6",
   "metadata": {},
   "outputs": [
    {
     "ename": "NameError",
     "evalue": "name 'total' is not defined",
     "output_type": "error",
     "traceback": [
      "\u001b[1;31m---------------------------------------------------------------------------\u001b[0m",
      "\u001b[1;31mNameError\u001b[0m                                 Traceback (most recent call last)",
      "Input \u001b[1;32mIn [2]\u001b[0m, in \u001b[0;36m<cell line: 6>\u001b[1;34m()\u001b[0m\n\u001b[0;32m      3\u001b[0m     total \u001b[38;5;241m=\u001b[39m \u001b[38;5;241m5\u001b[39m \u001b[38;5;241m+\u001b[39m \u001b[38;5;241m20\u001b[39m\n\u001b[0;32m      5\u001b[0m     \u001b[38;5;66;03m# print the total\u001b[39;00m\n\u001b[1;32m----> 6\u001b[0m \u001b[38;5;28mprint\u001b[39m(\u001b[43mtotal\u001b[49m)\n",
      "\u001b[1;31mNameError\u001b[0m: name 'total' is not defined"
     ]
    }
   ],
   "source": [
    "def add_two_number():\n",
    "    # add two numbers 5 and 20\n",
    "    total = 5 + 20\n",
    "    \n",
    "    # print the total\n",
    "print(total)"
   ]
  },
  {
   "cell_type": "markdown",
   "id": "f5e83fbf",
   "metadata": {},
   "source": [
    "## Numpy\n",
    "* NumPy is a Python library used for working with arrays.\n",
    "* It also has functions for working in domain of linear algebra, fourier transform, and matrices.\n",
    "* NumPy was created in 2005 by Travis Oliphant. It is an open source project and you can use it freely.\n",
    "* NumPy stands for Numerical Python.\n"
   ]
  },
  {
   "cell_type": "code",
   "execution_count": 3,
   "id": "dcd9eb18",
   "metadata": {},
   "outputs": [],
   "source": [
    "import numpy"
   ]
  },
  {
   "cell_type": "code",
   "execution_count": 4,
   "id": "9c6a0c95",
   "metadata": {},
   "outputs": [
    {
     "name": "stdout",
     "output_type": "stream",
     "text": [
      "[1 2 3 4 5]\n"
     ]
    }
   ],
   "source": [
    "arr = numpy.array([1, 2, 3, 4, 5])\n",
    "print(arr)"
   ]
  },
  {
   "cell_type": "code",
   "execution_count": 5,
   "id": "21c84b7a",
   "metadata": {},
   "outputs": [],
   "source": [
    "import numpy as np"
   ]
  },
  {
   "cell_type": "code",
   "execution_count": 6,
   "id": "550cb52a",
   "metadata": {},
   "outputs": [
    {
     "name": "stdout",
     "output_type": "stream",
     "text": [
      "[1 2 3 4 5]\n"
     ]
    }
   ],
   "source": [
    "arr = np.array([1, 2, 3, 4, 5])\n",
    "print(arr)"
   ]
  },
  {
   "cell_type": "code",
   "execution_count": 7,
   "id": "e586309f",
   "metadata": {},
   "outputs": [
    {
     "name": "stdout",
     "output_type": "stream",
     "text": [
      "1.21.5\n"
     ]
    }
   ],
   "source": [
    "# Checking numpy version\n",
    "print(np.__version__)"
   ]
  },
  {
   "cell_type": "code",
   "execution_count": 8,
   "id": "4e5e23bd",
   "metadata": {},
   "outputs": [
    {
     "name": "stdout",
     "output_type": "stream",
     "text": [
      "42\n"
     ]
    }
   ],
   "source": [
    "# 0-D Array\n",
    "\n",
    "arr = np.array(42)\n",
    "\n",
    "print(arr)"
   ]
  },
  {
   "cell_type": "code",
   "execution_count": 9,
   "id": "ce9dd4b9",
   "metadata": {},
   "outputs": [
    {
     "name": "stdout",
     "output_type": "stream",
     "text": [
      "[1 2 3 4 5]\n"
     ]
    }
   ],
   "source": [
    "# 1-D Array\n",
    "arr = np.array([1, 2, 3, 4, 5])\n",
    "\n",
    "print(arr) "
   ]
  },
  {
   "cell_type": "code",
   "execution_count": 10,
   "id": "4b898f76",
   "metadata": {},
   "outputs": [
    {
     "name": "stdout",
     "output_type": "stream",
     "text": [
      "(2, 4)\n"
     ]
    }
   ],
   "source": [
    "# Shape of array\n",
    "arr = np.array([[1, 2, 3, 4], [5, 6, 7, 8]])\n",
    "\n",
    "print(arr.shape) "
   ]
  },
  {
   "cell_type": "markdown",
   "id": "bf49ef1f",
   "metadata": {},
   "source": [
    "## Pandas\n",
    "* Pandas is a Python library.\n",
    "* Pandas is used to analyze data."
   ]
  },
  {
   "cell_type": "code",
   "execution_count": 11,
   "id": "f57faa88",
   "metadata": {},
   "outputs": [],
   "source": [
    "import pandas as pd"
   ]
  },
  {
   "cell_type": "code",
   "execution_count": 12,
   "id": "485a5f49",
   "metadata": {},
   "outputs": [
    {
     "name": "stdout",
     "output_type": "stream",
     "text": [
      "    cars  passings\n",
      "0    BMW         3\n",
      "1  Volvo         7\n",
      "2   Ford         2\n"
     ]
    }
   ],
   "source": [
    "import pandas\n",
    "\n",
    "mydataset = {\n",
    "  'cars': [\"BMW\", \"Volvo\", \"Ford\"],\n",
    "  'passings': [3, 7, 2]\n",
    "}\n",
    "\n",
    "myvar = pandas.DataFrame(mydataset)\n",
    "\n",
    "print(myvar) "
   ]
  },
  {
   "cell_type": "code",
   "execution_count": 13,
   "id": "5bda5e89",
   "metadata": {},
   "outputs": [
    {
     "name": "stdout",
     "output_type": "stream",
     "text": [
      "    cars  passings\n",
      "0    BMW         3\n",
      "1  Volvo         7\n",
      "2   Ford         2\n"
     ]
    }
   ],
   "source": [
    "mydataset = {\n",
    "  'cars': [\"BMW\", \"Volvo\", \"Ford\"],\n",
    "  'passings': [3, 7, 2]\n",
    "}\n",
    "\n",
    "myvar = pd.DataFrame(mydataset)\n",
    "\n",
    "print(myvar)"
   ]
  },
  {
   "cell_type": "code",
   "execution_count": 14,
   "id": "3f2dca28",
   "metadata": {},
   "outputs": [
    {
     "name": "stdout",
     "output_type": "stream",
     "text": [
      "1.4.2\n"
     ]
    }
   ],
   "source": [
    " import pandas as pd\n",
    "\n",
    "print(pd.__version__)"
   ]
  },
  {
   "cell_type": "markdown",
   "id": "659b84f9",
   "metadata": {},
   "source": [
    "## SciPy\n",
    "* SciPy is a scientific computation library that uses NumPy underneath.\n",
    "* SciPy stands for Scientific Python.\n",
    "* It provides more utility functions for optimization, stats and signal processing.\n",
    "* Like NumPy, SciPy is open source so we can use it freely.\n",
    "* SciPy was created by NumPy's creator Travis Olliphant."
   ]
  },
  {
   "cell_type": "code",
   "execution_count": 15,
   "id": "d093014f",
   "metadata": {},
   "outputs": [],
   "source": [
    "from scipy import constants "
   ]
  },
  {
   "cell_type": "code",
   "execution_count": 16,
   "id": "0aeda496",
   "metadata": {},
   "outputs": [
    {
     "name": "stdout",
     "output_type": "stream",
     "text": [
      "0.001\n"
     ]
    }
   ],
   "source": [
    "print(constants.liter)"
   ]
  },
  {
   "cell_type": "code",
   "execution_count": 17,
   "id": "fa8f28e0",
   "metadata": {},
   "outputs": [
    {
     "name": "stdout",
     "output_type": "stream",
     "text": [
      "['Avogadro', 'Boltzmann', 'Btu', 'Btu_IT', 'Btu_th', 'ConstantWarning', 'G', 'Julian_year', 'N_A', 'Planck', 'R', 'Rydberg', 'Stefan_Boltzmann', 'Wien', '__all__', '__builtins__', '__cached__', '__doc__', '__file__', '__loader__', '__name__', '__package__', '__path__', '__spec__', '_obsolete_constants', 'acre', 'alpha', 'angstrom', 'arcmin', 'arcminute', 'arcsec', 'arcsecond', 'astronomical_unit', 'atm', 'atmosphere', 'atomic_mass', 'atto', 'au', 'bar', 'barrel', 'bbl', 'blob', 'c', 'calorie', 'calorie_IT', 'calorie_th', 'carat', 'centi', 'codata', 'constants', 'convert_temperature', 'day', 'deci', 'degree', 'degree_Fahrenheit', 'deka', 'dyn', 'dyne', 'e', 'eV', 'electron_mass', 'electron_volt', 'elementary_charge', 'epsilon_0', 'erg', 'exa', 'exbi', 'femto', 'fermi', 'find', 'fine_structure', 'fluid_ounce', 'fluid_ounce_US', 'fluid_ounce_imp', 'foot', 'g', 'gallon', 'gallon_US', 'gallon_imp', 'gas_constant', 'gibi', 'giga', 'golden', 'golden_ratio', 'grain', 'gram', 'gravitational_constant', 'h', 'hbar', 'hectare', 'hecto', 'horsepower', 'hour', 'hp', 'inch', 'k', 'kgf', 'kibi', 'kilo', 'kilogram_force', 'kmh', 'knot', 'lambda2nu', 'lb', 'lbf', 'light_year', 'liter', 'litre', 'long_ton', 'm_e', 'm_n', 'm_p', 'm_u', 'mach', 'mebi', 'mega', 'metric_ton', 'micro', 'micron', 'mil', 'mile', 'milli', 'minute', 'mmHg', 'mph', 'mu_0', 'nano', 'nautical_mile', 'neutron_mass', 'nu2lambda', 'ounce', 'oz', 'parsec', 'pebi', 'peta', 'physical_constants', 'pi', 'pico', 'point', 'pound', 'pound_force', 'precision', 'proton_mass', 'psi', 'pt', 'short_ton', 'sigma', 'slinch', 'slug', 'speed_of_light', 'speed_of_sound', 'stone', 'survey_foot', 'survey_mile', 'tebi', 'tera', 'test', 'ton_TNT', 'torr', 'troy_ounce', 'troy_pound', 'u', 'unit', 'value', 'week', 'yard', 'year', 'yobi', 'yotta', 'zebi', 'zepto', 'zero_Celsius', 'zetta']\n"
     ]
    }
   ],
   "source": [
    "print(dir(constants)) "
   ]
  },
  {
   "cell_type": "code",
   "execution_count": 18,
   "id": "0a2d6c6e",
   "metadata": {},
   "outputs": [
    {
     "name": "stdout",
     "output_type": "stream",
     "text": [
      "{'__header__': b'MATLAB 5.0 MAT-file Platform: nt, Created on: Mon Sep  5 08:44:48 2022', '__version__': '1.0', '__globals__': [], 'vec': array([[0, 1, 2, 3, 4, 5, 6, 7, 8, 9]])}\n"
     ]
    }
   ],
   "source": [
    "from scipy import io\n",
    "import numpy as np\n",
    "\n",
    "arr = np.array([0, 1, 2, 3, 4, 5, 6, 7, 8, 9,])\n",
    "\n",
    "# Export:\n",
    "io.savemat('arr.mat', {\"vec\": arr})\n",
    "\n",
    "# Import:\n",
    "mydata = io.loadmat('arr.mat')\n",
    "\n",
    "print(mydata) "
   ]
  },
  {
   "cell_type": "markdown",
   "id": "6ca98ade",
   "metadata": {},
   "source": [
    "## Matplotlib\n",
    "* Matplotlib is a low level graph plotting library in python that serves as a visualization utility.\n",
    "* Matplotlib was created by John D. Hunter.\n",
    "* Matplotlib is open source and we can use it freely.\n",
    "* Matplotlib is mostly written in python, a few segments are written in C, Objective-C and Javascript for Platform compatibility."
   ]
  },
  {
   "cell_type": "code",
   "execution_count": 20,
   "id": "51ac97c8",
   "metadata": {},
   "outputs": [],
   "source": [
    "import matplotlib"
   ]
  },
  {
   "cell_type": "code",
   "execution_count": 21,
   "id": "9f9181a0",
   "metadata": {},
   "outputs": [],
   "source": [
    "#Most of the Matplotlib utilities lies under the pyplot submodule, and are usually imported under the plt alias:\n",
    "import matplotlib.pyplot as plt\n"
   ]
  },
  {
   "cell_type": "code",
   "execution_count": 22,
   "id": "e3eda14f",
   "metadata": {},
   "outputs": [
    {
     "data": {
      "image/png": "[encoded data removed]",
      "text/plain": [
       "<Figure size 432x288 with 1 Axes>"
      ]
     },
     "metadata": {
      "needs_background": "light"
     },
     "output_type": "display_data"
    }
   ],
   "source": [
    "import matplotlib.pyplot as plt\n",
    "import numpy as np\n",
    "\n",
    "xpoints = np.array([0, 6])\n",
    "ypoints = np.array([0, 250])\n",
    "\n",
    "plt.plot(xpoints, ypoints)\n",
    "plt.show()"
   ]
  },
  {
   "cell_type": "code",
   "execution_count": 23,
   "id": "f4029487",
   "metadata": {},
   "outputs": [
    {
     "data": {
      "image/png": "[encoded data removed]",
      "text/plain": [
       "<Figure size 432x288 with 1 Axes>"
      ]
     },
     "metadata": {
      "needs_background": "light"
     },
     "output_type": "display_data"
    }
   ],
   "source": [
    "import matplotlib.pyplot as plt\n",
    "import numpy as np\n",
    "\n",
    "xpoints = np.array([1, 2, 6, 8])\n",
    "ypoints = np.array([3, 8, 1, 10])\n",
    "\n",
    "plt.plot(xpoints, ypoints)\n",
    "plt.show()"
   ]
  },
  {
   "cell_type": "markdown",
   "id": "9f1aaa3e",
   "metadata": {},
   "source": [
    "## Seaborn \n",
    "* Seaborn is an open-source Python library built on top of matplotlib. It is used for data visualization and exploratory data analysis. Seaborn works easily with dataframes and the Pandas library. The graphs created can also be customized easily"
   ]
  },
  {
   "cell_type": "code",
   "execution_count": 25,
   "id": "42730881",
   "metadata": {},
   "outputs": [],
   "source": [
    "import seaborn as sns "
   ]
  },
  {
   "cell_type": "code",
   "execution_count": 28,
   "id": "6b95d699",
   "metadata": {},
   "outputs": [
    {
     "name": "stdout",
     "output_type": "stream",
     "text": [
      "['anagrams', 'anscombe', 'attention', 'brain_networks', 'car_crashes', 'diamonds', 'dots', 'dowjones', 'exercise', 'flights', 'fmri', 'geyser', 'glue', 'healthexp', 'iris', 'mpg', 'penguins', 'planets', 'seaice', 'taxis', 'tips', 'titanic']\n"
     ]
    }
   ],
   "source": [
    "## Load Data To Construct Seaborn Plots\n",
    "import pandas\n",
    "import matplotlib\n",
    "import scipy\n",
    "import seaborn as sns\n",
    "\n",
    "print(sns.get_dataset_names())"
   ]
  },
  {
   "cell_type": "code",
   "execution_count": 29,
   "id": "6c8a9b76",
   "metadata": {},
   "outputs": [
    {
     "name": "stdout",
     "output_type": "stream",
     "text": [
      "   total  speeding  alcohol  not_distracted  no_previous  ins_premium  \\\n",
      "0   18.8     7.332    5.640          18.048       15.040       784.55   \n",
      "1   18.1     7.421    4.525          16.290       17.014      1053.48   \n",
      "2   18.6     6.510    5.208          15.624       17.856       899.47   \n",
      "3   22.4     4.032    5.824          21.056       21.280       827.34   \n",
      "4   12.0     4.200    3.360          10.920       10.680       878.41   \n",
      "\n",
      "   ins_losses abbrev  \n",
      "0      145.08     AL  \n",
      "1      133.93     AK  \n",
      "2      110.35     AZ  \n",
      "3      142.39     AR  \n",
      "4      165.63     CA  \n"
     ]
    }
   ],
   "source": [
    "##  import any one of those datasets and visualize the data in the coming sections\n",
    "import seaborn as sns\n",
    "df = sns.load_dataset('car_crashes')\n",
    "print(df.head())"
   ]
  },
  {
   "cell_type": "code",
   "execution_count": 30,
   "id": "0019d7f4",
   "metadata": {},
   "outputs": [
    {
     "data": {
      "image/png": "[encoded data removed]",
      "text/plain": [
       "<Figure size 432x288 with 1 Axes>"
      ]
     },
     "metadata": {
      "needs_background": "light"
     },
     "output_type": "display_data"
    }
   ],
   "source": [
    "# Styling and Themes in Seaborn\n",
    "from matplotlib import pyplot as plt\n",
    "import seaborn as sns\n",
    "plt.scatter(df.speeding,df.alcohol)\n",
    "plt.show()"
   ]
  },
  {
   "cell_type": "code",
   "execution_count": 31,
   "id": "17fa66c7",
   "metadata": {},
   "outputs": [
    {
     "data": {
      "image/png": "[encoded data removed]",
      "text/plain": [
       "<Figure size 432x288 with 1 Axes>"
      ]
     },
     "metadata": {
      "needs_background": "light"
     },
     "output_type": "display_data"
    }
   ],
   "source": [
    "# Now let us see how we can style this plot using the set() function\n",
    "\n",
    "from matplotlib import pyplot as plt\n",
    "import seaborn as sns\n",
    "plt.scatter(df.speeding,df.alcohol)\n",
    "sns.set()\n",
    "plt.show()"
   ]
  },
  {
   "cell_type": "code",
   "execution_count": null,
   "id": "9ecd0c7e",
   "metadata": {},
   "outputs": [],
   "source": []
  },
  {
   "cell_type": "code",
   "execution_count": null,
   "id": "f8e1fb8f",
   "metadata": {},
   "outputs": [],
   "source": []
  }
 ],
 "metadata": {
  "kernelspec": {
   "display_name": "Python 3 (ipykernel)",
   "language": "python",
   "name": "python3"
  },
  "language_info": {
   "codemirror_mode": {
    "name": "ipython",
    "version": 3
   },
   "file_extension": ".py",
   "mimetype": "text/x-python",
   "name": "python",
   "nbconvert_exporter": "python",
   "pygments_lexer": "ipython3",
   "version": "3.9.12"
  }
 },
 "nbformat": 4,
 "nbformat_minor": 5
}
